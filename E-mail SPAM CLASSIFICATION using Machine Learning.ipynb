{
 "cells": [
  {
   "cell_type": "code",
   "execution_count": 1,
   "metadata": {
    "execution": {
     "iopub.execute_input": "2020-09-19T17:52:10.228871Z",
     "iopub.status.busy": "2020-09-19T17:52:10.227867Z",
     "iopub.status.idle": "2020-09-19T17:52:10.231515Z",
     "shell.execute_reply": "2020-09-19T17:52:10.230769Z"
    },
    "papermill": {
     "duration": 0.06511,
     "end_time": "2020-09-19T17:52:10.231664",
     "exception": false,
     "start_time": "2020-09-19T17:52:10.166554",
     "status": "completed"
    },
    "tags": []
   },
   "outputs": [],
   "source": [
    "# ****-------Notebook Summary----***\n",
    "\n",
    "#Data Science, Machine Learning\n",
    "\n",
    "#Data Visualization,EDA Analysis, Data Pre-processing,Data Cleaning,Data Split\n",
    "#-------------------------------------------------------------------------------------------------\n",
    "#Machine Learning Algorithm:\n",
    "\n",
    "#Best Model accuracy:model_3: 99.31%\n",
    "#Visualize output at graph"
   ]
  },
  {
   "cell_type": "code",
   "execution_count": 2,
   "metadata": {
    "_cell_guid": "b1076dfc-b9ad-4769-8c92-a6c4dae69d19",
    "_uuid": "8f2839f25d086af736a60e9eeb907d3b93b6e0e5",
    "execution": {
     "iopub.execute_input": "2020-09-19T17:52:10.342568Z",
     "iopub.status.busy": "2020-09-19T17:52:10.341643Z",
     "iopub.status.idle": "2020-09-19T17:52:10.350897Z",
     "shell.execute_reply": "2020-09-19T17:52:10.351828Z"
    },
    "papermill": {
     "duration": 0.069242,
     "end_time": "2020-09-19T17:52:10.352296",
     "exception": false,
     "start_time": "2020-09-19T17:52:10.283054",
     "status": "completed"
    },
    "tags": []
   },
   "outputs": [
    {
     "name": "stdout",
     "output_type": "stream",
     "text": [
      "/kaggle/input/lingspam-classification/messages.csv\n"
     ]
    }
   ],
   "source": [
    "# This Python 3 environment comes with many helpful analytics libraries installed\n",
    "# It is defined by the kaggle/python Docker image: https://github.com/kaggle/docker-python\n",
    "# For example, here's several helpful packages to load\n",
    "\n",
    "import numpy as np # linear algebra\n",
    "import pandas as pd # data processing, CSV file I/O (e.g. pd.read_csv)\n",
    "\n",
    "# Input data files are available in the read-only \"../input/\" directory\n",
    "# For example, running this (by clicking run or pressing Shift+Enter) will list all files under the input directory\n",
    "\n",
    "import os\n",
    "for dirname, _, filenames in os.walk('/kaggle/input'):\n",
    "    for filename in filenames:\n",
    "        print(os.path.join(dirname, filename))\n",
    "\n",
    "# You can write up to 5GB to the current directory (/kaggle/working/) that gets preserved as output when you create a version using \"Save & Run All\" \n",
    "# You can also write temporary files to /kaggle/temp/, but they won't be saved outside of the current session"
   ]
  },
  {
   "cell_type": "code",
   "execution_count": 3,
   "metadata": {
    "_cell_guid": "79c7e3d0-c299-4dcb-8224-4455121ee9b0",
    "_uuid": "d629ff2d2480ee46fbb7e2d37f6b5fab8052498a",
    "execution": {
     "iopub.execute_input": "2020-09-19T17:52:10.464446Z",
     "iopub.status.busy": "2020-09-19T17:52:10.463376Z",
     "iopub.status.idle": "2020-09-19T17:52:10.467007Z",
     "shell.execute_reply": "2020-09-19T17:52:10.466243Z"
    },
    "papermill": {
     "duration": 0.061122,
     "end_time": "2020-09-19T17:52:10.467138",
     "exception": false,
     "start_time": "2020-09-19T17:52:10.406016",
     "status": "completed"
    },
    "tags": []
   },
   "outputs": [],
   "source": [
    "#Enivornment Setup"
   ]
  },
  {
   "cell_type": "code",
   "execution_count": 4,
   "metadata": {
    "execution": {
     "iopub.execute_input": "2020-09-19T17:52:10.581316Z",
     "iopub.status.busy": "2020-09-19T17:52:10.578993Z",
     "iopub.status.idle": "2020-09-19T17:52:12.706643Z",
     "shell.execute_reply": "2020-09-19T17:52:12.705620Z"
    },
    "papermill": {
     "duration": 2.188014,
     "end_time": "2020-09-19T17:52:12.706824",
     "exception": false,
     "start_time": "2020-09-19T17:52:10.518810",
     "status": "completed"
    },
    "tags": []
   },
   "outputs": [
    {
     "name": "stderr",
     "output_type": "stream",
     "text": [
      "/opt/conda/lib/python3.7/site-packages/nltk/twitter/__init__.py:20: UserWarning: The twython library has not been installed. Some functionality from the twitter package will not be available.\n",
      "  warnings.warn(\"The twython library has not been installed. \"\n"
     ]
    }
   ],
   "source": [
    "#Import libraries\n",
    "\n",
    "import matplotlib.pyplot as plt \n",
    "import seaborn as sns\n",
    "\n",
    "from nltk.stem.porter import PorterStemmer\n",
    "from nltk.stem import WordNetLemmatizer\n",
    "from nltk.sentiment.vader import SentimentIntensityAnalyzer\n",
    "from sklearn.feature_extraction.text import CountVectorizer,TfidfVectorizer\n",
    "from nltk.corpus import stopwords\n",
    "from nltk.tokenize import word_tokenize, sent_tokenize\n",
    "\n",
    "\n",
    "from sklearn.preprocessing import LabelEncoder\n",
    "from sklearn.metrics import accuracy_score, precision_score, recall_score\n",
    "from sklearn.model_selection import train_test_split\n",
    "\n",
    "from sklearn.linear_model import LogisticRegression\n",
    "from sklearn.naive_bayes import MultinomialNB\n",
    "from sklearn.neighbors import KNeighborsClassifier\n",
    "from sklearn.ensemble import RandomForestClassifier,GradientBoostingClassifier,AdaBoostClassifier\n",
    "\n",
    "from collections import Counter\n",
    "import string\n",
    "\n",
    "import warnings\n",
    "warnings.filterwarnings('ignore')\n",
    "import warnings\n",
    "warnings.filterwarnings('ignore')"
   ]
  },
  {
   "cell_type": "code",
   "execution_count": 5,
   "metadata": {
    "execution": {
     "iopub.execute_input": "2020-09-19T17:52:12.819063Z",
     "iopub.status.busy": "2020-09-19T17:52:12.818170Z",
     "iopub.status.idle": "2020-09-19T17:52:12.821768Z",
     "shell.execute_reply": "2020-09-19T17:52:12.820955Z"
    },
    "papermill": {
     "duration": 0.061476,
     "end_time": "2020-09-19T17:52:12.821928",
     "exception": false,
     "start_time": "2020-09-19T17:52:12.760452",
     "status": "completed"
    },
    "tags": []
   },
   "outputs": [],
   "source": [
    "#Data Read, Data Visualization,EDA Analysis,Data Pre-Processing,Data Splitting"
   ]
  },
  {
   "cell_type": "code",
   "execution_count": 6,
   "metadata": {
    "execution": {
     "iopub.execute_input": "2020-09-19T17:52:12.944814Z",
     "iopub.status.busy": "2020-09-19T17:52:12.943973Z",
     "iopub.status.idle": "2020-09-19T17:52:13.064099Z",
     "shell.execute_reply": "2020-09-19T17:52:13.063444Z"
    },
    "papermill": {
     "duration": 0.189701,
     "end_time": "2020-09-19T17:52:13.064243",
     "exception": false,
     "start_time": "2020-09-19T17:52:12.874542",
     "status": "completed"
    },
    "tags": []
   },
   "outputs": [],
   "source": [
    "#Data Read\n",
    "file_path = '/kaggle/input/lingspam-classification'\n",
    "df = pd.read_csv(f'{file_path}/messages.csv')"
   ]
  },
  {
   "cell_type": "code",
   "execution_count": 7,
   "metadata": {
    "execution": {
     "iopub.execute_input": "2020-09-19T17:52:13.186239Z",
     "iopub.status.busy": "2020-09-19T17:52:13.185402Z",
     "iopub.status.idle": "2020-09-19T17:52:13.203488Z",
     "shell.execute_reply": "2020-09-19T17:52:13.202688Z"
    },
    "papermill": {
     "duration": 0.086555,
     "end_time": "2020-09-19T17:52:13.203644",
     "exception": false,
     "start_time": "2020-09-19T17:52:13.117089",
     "status": "completed"
    },
    "tags": []
   },
   "outputs": [
    {
     "data": {
      "text/html": [
       "<div>\n",
       "<style scoped>\n",
       "    .dataframe tbody tr th:only-of-type {\n",
       "        vertical-align: middle;\n",
       "    }\n",
       "\n",
       "    .dataframe tbody tr th {\n",
       "        vertical-align: top;\n",
       "    }\n",
       "\n",
       "    .dataframe thead th {\n",
       "        text-align: right;\n",
       "    }\n",
       "</style>\n",
       "<table border=\"1\" class=\"dataframe\">\n",
       "  <thead>\n",
       "    <tr style=\"text-align: right;\">\n",
       "      <th></th>\n",
       "      <th>label</th>\n",
       "    </tr>\n",
       "  </thead>\n",
       "  <tbody>\n",
       "    <tr>\n",
       "      <th>count</th>\n",
       "      <td>2893.000000</td>\n",
       "    </tr>\n",
       "    <tr>\n",
       "      <th>mean</th>\n",
       "      <td>0.166263</td>\n",
       "    </tr>\n",
       "    <tr>\n",
       "      <th>std</th>\n",
       "      <td>0.372381</td>\n",
       "    </tr>\n",
       "    <tr>\n",
       "      <th>min</th>\n",
       "      <td>0.000000</td>\n",
       "    </tr>\n",
       "    <tr>\n",
       "      <th>25%</th>\n",
       "      <td>0.000000</td>\n",
       "    </tr>\n",
       "    <tr>\n",
       "      <th>50%</th>\n",
       "      <td>0.000000</td>\n",
       "    </tr>\n",
       "    <tr>\n",
       "      <th>75%</th>\n",
       "      <td>0.000000</td>\n",
       "    </tr>\n",
       "    <tr>\n",
       "      <th>max</th>\n",
       "      <td>1.000000</td>\n",
       "    </tr>\n",
       "  </tbody>\n",
       "</table>\n",
       "</div>"
      ],
      "text/plain": [
       "             label\n",
       "count  2893.000000\n",
       "mean      0.166263\n",
       "std       0.372381\n",
       "min       0.000000\n",
       "25%       0.000000\n",
       "50%       0.000000\n",
       "75%       0.000000\n",
       "max       1.000000"
      ]
     },
     "execution_count": 7,
     "metadata": {},
     "output_type": "execute_result"
    }
   ],
   "source": [
    "df.describe()"
   ]
  },
  {
   "cell_type": "code",
   "execution_count": 8,
   "metadata": {
    "execution": {
     "iopub.execute_input": "2020-09-19T17:52:13.336415Z",
     "iopub.status.busy": "2020-09-19T17:52:13.327394Z",
     "iopub.status.idle": "2020-09-19T17:52:13.343241Z",
     "shell.execute_reply": "2020-09-19T17:52:13.342156Z"
    },
    "papermill": {
     "duration": 0.084105,
     "end_time": "2020-09-19T17:52:13.343474",
     "exception": false,
     "start_time": "2020-09-19T17:52:13.259369",
     "status": "completed"
    },
    "tags": []
   },
   "outputs": [
    {
     "name": "stdout",
     "output_type": "stream",
     "text": [
      "<class 'pandas.core.frame.DataFrame'>\n",
      "RangeIndex: 2893 entries, 0 to 2892\n",
      "Data columns (total 3 columns):\n",
      " #   Column   Non-Null Count  Dtype \n",
      "---  ------   --------------  ----- \n",
      " 0   subject  2831 non-null   object\n",
      " 1   message  2893 non-null   object\n",
      " 2   label    2893 non-null   int64 \n",
      "dtypes: int64(1), object(2)\n",
      "memory usage: 67.9+ KB\n"
     ]
    }
   ],
   "source": [
    "df.info()"
   ]
  },
  {
   "cell_type": "code",
   "execution_count": 9,
   "metadata": {
    "execution": {
     "iopub.execute_input": "2020-09-19T17:52:13.494439Z",
     "iopub.status.busy": "2020-09-19T17:52:13.493394Z",
     "iopub.status.idle": "2020-09-19T17:52:13.894021Z",
     "shell.execute_reply": "2020-09-19T17:52:13.893357Z"
    },
    "papermill": {
     "duration": 0.482278,
     "end_time": "2020-09-19T17:52:13.894159",
     "exception": false,
     "start_time": "2020-09-19T17:52:13.411881",
     "status": "completed"
    },
    "tags": []
   },
   "outputs": [
    {
     "data": {
      "image/png": "[encoded data removed]",
      "text/plain": [
       "<Figure size 432x288 with 1 Axes>"
      ]
     },
     "metadata": {},
     "output_type": "display_data"
    }
   ],
   "source": [
    "import seaborn; seaborn.set()\n",
    "df.plot();"
   ]
  },
  {
   "cell_type": "code",
   "execution_count": 10,
   "metadata": {
    "execution": {
     "iopub.execute_input": "2020-09-19T17:52:14.023032Z",
     "iopub.status.busy": "2020-09-19T17:52:14.021267Z",
     "iopub.status.idle": "2020-09-19T17:52:14.175514Z",
     "shell.execute_reply": "2020-09-19T17:52:14.176172Z"
    },
    "papermill": {
     "duration": 0.227519,
     "end_time": "2020-09-19T17:52:14.176384",
     "exception": false,
     "start_time": "2020-09-19T17:52:13.948865",
     "status": "completed"
    },
    "tags": []
   },
   "outputs": [
    {
     "data": {
      "text/plain": [
       "<matplotlib.axes._subplots.AxesSubplot at 0x7f3c845290d0>"
      ]
     },
     "execution_count": 10,
     "metadata": {},
     "output_type": "execute_result"
    },
    {
     "data": {
      "image/png": "[encoded data removed]",
      "text/plain": [
       "<Figure size 432x288 with 1 Axes>"
      ]
     },
     "metadata": {},
     "output_type": "display_data"
    }
   ],
   "source": [
    "#checking the target variable countplot\n",
    "sns.countplot(data=df,x = 'label',palette='plasma')"
   ]
  },
  {
   "cell_type": "code",
   "execution_count": 11,
   "metadata": {
    "execution": {
     "iopub.execute_input": "2020-09-19T17:52:14.306696Z",
     "iopub.status.busy": "2020-09-19T17:52:14.305820Z",
     "iopub.status.idle": "2020-09-19T17:52:14.311051Z",
     "shell.execute_reply": "2020-09-19T17:52:14.310468Z"
    },
    "papermill": {
     "duration": 0.073951,
     "end_time": "2020-09-19T17:52:14.311184",
     "exception": false,
     "start_time": "2020-09-19T17:52:14.237233",
     "status": "completed"
    },
    "tags": []
   },
   "outputs": [
    {
     "data": {
      "text/html": [
       "<div>\n",
       "<style scoped>\n",
       "    .dataframe tbody tr th:only-of-type {\n",
       "        vertical-align: middle;\n",
       "    }\n",
       "\n",
       "    .dataframe tbody tr th {\n",
       "        vertical-align: top;\n",
       "    }\n",
       "\n",
       "    .dataframe thead th {\n",
       "        text-align: right;\n",
       "    }\n",
       "</style>\n",
       "<table border=\"1\" class=\"dataframe\">\n",
       "  <thead>\n",
       "    <tr style=\"text-align: right;\">\n",
       "      <th></th>\n",
       "      <th>subject</th>\n",
       "      <th>message</th>\n",
       "      <th>label</th>\n",
       "    </tr>\n",
       "  </thead>\n",
       "  <tbody>\n",
       "    <tr>\n",
       "      <th>0</th>\n",
       "      <td>job posting - apple-iss research center</td>\n",
       "      <td>content - length : 3386 apple-iss research cen...</td>\n",
       "      <td>0</td>\n",
       "    </tr>\n",
       "    <tr>\n",
       "      <th>1</th>\n",
       "      <td>NaN</td>\n",
       "      <td>lang classification grimes , joseph e . and ba...</td>\n",
       "      <td>0</td>\n",
       "    </tr>\n",
       "    <tr>\n",
       "      <th>2</th>\n",
       "      <td>query : letter frequencies for text identifica...</td>\n",
       "      <td>i am posting this inquiry for sergei atamas ( ...</td>\n",
       "      <td>0</td>\n",
       "    </tr>\n",
       "    <tr>\n",
       "      <th>3</th>\n",
       "      <td>risk</td>\n",
       "      <td>a colleague and i are researching the differin...</td>\n",
       "      <td>0</td>\n",
       "    </tr>\n",
       "    <tr>\n",
       "      <th>4</th>\n",
       "      <td>request book information</td>\n",
       "      <td>earlier this morning i was on the phone with a...</td>\n",
       "      <td>0</td>\n",
       "    </tr>\n",
       "  </tbody>\n",
       "</table>\n",
       "</div>"
      ],
      "text/plain": [
       "                                             subject  \\\n",
       "0            job posting - apple-iss research center   \n",
       "1                                                NaN   \n",
       "2  query : letter frequencies for text identifica...   \n",
       "3                                               risk   \n",
       "4                           request book information   \n",
       "\n",
       "                                             message  label  \n",
       "0  content - length : 3386 apple-iss research cen...      0  \n",
       "1  lang classification grimes , joseph e . and ba...      0  \n",
       "2  i am posting this inquiry for sergei atamas ( ...      0  \n",
       "3  a colleague and i are researching the differin...      0  \n",
       "4  earlier this morning i was on the phone with a...      0  "
      ]
     },
     "execution_count": 11,
     "metadata": {},
     "output_type": "execute_result"
    }
   ],
   "source": [
    "df.head()"
   ]
  },
  {
   "cell_type": "code",
   "execution_count": 12,
   "metadata": {
    "execution": {
     "iopub.execute_input": "2020-09-19T17:52:14.451427Z",
     "iopub.status.busy": "2020-09-19T17:52:14.450600Z",
     "iopub.status.idle": "2020-09-19T17:52:14.454686Z",
     "shell.execute_reply": "2020-09-19T17:52:14.453903Z"
    },
    "papermill": {
     "duration": 0.086259,
     "end_time": "2020-09-19T17:52:14.454817",
     "exception": false,
     "start_time": "2020-09-19T17:52:14.368558",
     "status": "completed"
    },
    "tags": []
   },
   "outputs": [],
   "source": [
    "# converting all messages to lower case\n",
    "\n",
    "df['message'] = df['message'].str.lower()"
   ]
  },
  {
   "cell_type": "code",
   "execution_count": 13,
   "metadata": {
    "execution": {
     "iopub.execute_input": "2020-09-19T17:52:14.584130Z",
     "iopub.status.busy": "2020-09-19T17:52:14.583088Z",
     "iopub.status.idle": "2020-09-19T17:52:14.588039Z",
     "shell.execute_reply": "2020-09-19T17:52:14.588618Z"
    },
    "papermill": {
     "duration": 0.075417,
     "end_time": "2020-09-19T17:52:14.588792",
     "exception": false,
     "start_time": "2020-09-19T17:52:14.513375",
     "status": "completed"
    },
    "tags": []
   },
   "outputs": [
    {
     "data": {
      "text/html": [
       "<div>\n",
       "<style scoped>\n",
       "    .dataframe tbody tr th:only-of-type {\n",
       "        vertical-align: middle;\n",
       "    }\n",
       "\n",
       "    .dataframe tbody tr th {\n",
       "        vertical-align: top;\n",
       "    }\n",
       "\n",
       "    .dataframe thead th {\n",
       "        text-align: right;\n",
       "    }\n",
       "</style>\n",
       "<table border=\"1\" class=\"dataframe\">\n",
       "  <thead>\n",
       "    <tr style=\"text-align: right;\">\n",
       "      <th></th>\n",
       "      <th>subject</th>\n",
       "      <th>message</th>\n",
       "      <th>label</th>\n",
       "    </tr>\n",
       "  </thead>\n",
       "  <tbody>\n",
       "    <tr>\n",
       "      <th>0</th>\n",
       "      <td>job posting - apple-iss research center</td>\n",
       "      <td>content - length : 3386 apple-iss research cen...</td>\n",
       "      <td>0</td>\n",
       "    </tr>\n",
       "    <tr>\n",
       "      <th>1</th>\n",
       "      <td>NaN</td>\n",
       "      <td>lang classification grimes , joseph e . and ba...</td>\n",
       "      <td>0</td>\n",
       "    </tr>\n",
       "    <tr>\n",
       "      <th>2</th>\n",
       "      <td>query : letter frequencies for text identifica...</td>\n",
       "      <td>i am posting this inquiry for sergei atamas ( ...</td>\n",
       "      <td>0</td>\n",
       "    </tr>\n",
       "    <tr>\n",
       "      <th>3</th>\n",
       "      <td>risk</td>\n",
       "      <td>a colleague and i are researching the differin...</td>\n",
       "      <td>0</td>\n",
       "    </tr>\n",
       "    <tr>\n",
       "      <th>4</th>\n",
       "      <td>request book information</td>\n",
       "      <td>earlier this morning i was on the phone with a...</td>\n",
       "      <td>0</td>\n",
       "    </tr>\n",
       "  </tbody>\n",
       "</table>\n",
       "</div>"
      ],
      "text/plain": [
       "                                             subject  \\\n",
       "0            job posting - apple-iss research center   \n",
       "1                                                NaN   \n",
       "2  query : letter frequencies for text identifica...   \n",
       "3                                               risk   \n",
       "4                           request book information   \n",
       "\n",
       "                                             message  label  \n",
       "0  content - length : 3386 apple-iss research cen...      0  \n",
       "1  lang classification grimes , joseph e . and ba...      0  \n",
       "2  i am posting this inquiry for sergei atamas ( ...      0  \n",
       "3  a colleague and i are researching the differin...      0  \n",
       "4  earlier this morning i was on the phone with a...      0  "
      ]
     },
     "execution_count": 13,
     "metadata": {},
     "output_type": "execute_result"
    }
   ],
   "source": [
    "# check data once \n",
    "df.head()"
   ]
  },
  {
   "cell_type": "code",
   "execution_count": 14,
   "metadata": {
    "execution": {
     "iopub.execute_input": "2020-09-19T17:52:14.711043Z",
     "iopub.status.busy": "2020-09-19T17:52:14.710261Z",
     "iopub.status.idle": "2020-09-19T17:52:14.724756Z",
     "shell.execute_reply": "2020-09-19T17:52:14.724013Z"
    },
    "papermill": {
     "duration": 0.078133,
     "end_time": "2020-09-19T17:52:14.724914",
     "exception": false,
     "start_time": "2020-09-19T17:52:14.646781",
     "status": "completed"
    },
    "tags": []
   },
   "outputs": [
    {
     "data": {
      "text/plain": [
       "subject    62\n",
       "message     0\n",
       "label       0\n",
       "dtype: int64"
      ]
     },
     "execution_count": 14,
     "metadata": {},
     "output_type": "execute_result"
    }
   ],
   "source": [
    "df.apply(lambda x: sum(x.isnull()),axis=0)"
   ]
  },
  {
   "cell_type": "code",
   "execution_count": 15,
   "metadata": {
    "execution": {
     "iopub.execute_input": "2020-09-19T17:52:14.853738Z",
     "iopub.status.busy": "2020-09-19T17:52:14.852972Z",
     "iopub.status.idle": "2020-09-19T17:52:14.856544Z",
     "shell.execute_reply": "2020-09-19T17:52:14.855804Z"
    },
    "papermill": {
     "duration": 0.072848,
     "end_time": "2020-09-19T17:52:14.856678",
     "exception": false,
     "start_time": "2020-09-19T17:52:14.783830",
     "status": "completed"
    },
    "tags": []
   },
   "outputs": [],
   "source": [
    "df.fillna(df['subject'].mode().values[0],inplace=True)"
   ]
  },
  {
   "cell_type": "code",
   "execution_count": 16,
   "metadata": {
    "execution": {
     "iopub.execute_input": "2020-09-19T17:52:14.986463Z",
     "iopub.status.busy": "2020-09-19T17:52:14.985518Z",
     "iopub.status.idle": "2020-09-19T17:52:14.990829Z",
     "shell.execute_reply": "2020-09-19T17:52:14.990092Z"
    },
    "papermill": {
     "duration": 0.07593,
     "end_time": "2020-09-19T17:52:14.990952",
     "exception": false,
     "start_time": "2020-09-19T17:52:14.915022",
     "status": "completed"
    },
    "tags": []
   },
   "outputs": [
    {
     "data": {
      "text/plain": [
       "subject    0\n",
       "message    0\n",
       "label      0\n",
       "dtype: int64"
      ]
     },
     "execution_count": 16,
     "metadata": {},
     "output_type": "execute_result"
    }
   ],
   "source": [
    "df.apply(lambda x: sum(x.isnull()),axis=0)"
   ]
  },
  {
   "cell_type": "markdown",
   "metadata": {
    "papermill": {
     "duration": 0.058678,
     "end_time": "2020-09-19T17:52:15.108483",
     "exception": false,
     "start_time": "2020-09-19T17:52:15.049805",
     "status": "completed"
    },
    "tags": []
   },
   "source": [
    "Feature Engineering:\n",
    "To get clarity about mail i'm going to merge both subject and message"
   ]
  },
  {
   "cell_type": "code",
   "execution_count": 17,
   "metadata": {
    "execution": {
     "iopub.execute_input": "2020-09-19T17:52:15.236870Z",
     "iopub.status.busy": "2020-09-19T17:52:15.236059Z",
     "iopub.status.idle": "2020-09-19T17:52:15.274471Z",
     "shell.execute_reply": "2020-09-19T17:52:15.273874Z"
    },
    "papermill": {
     "duration": 0.106152,
     "end_time": "2020-09-19T17:52:15.274606",
     "exception": false,
     "start_time": "2020-09-19T17:52:15.168454",
     "status": "completed"
    },
    "tags": []
   },
   "outputs": [
    {
     "data": {
      "text/html": [
       "<div>\n",
       "<style scoped>\n",
       "    .dataframe tbody tr th:only-of-type {\n",
       "        vertical-align: middle;\n",
       "    }\n",
       "\n",
       "    .dataframe tbody tr th {\n",
       "        vertical-align: top;\n",
       "    }\n",
       "\n",
       "    .dataframe thead th {\n",
       "        text-align: right;\n",
       "    }\n",
       "</style>\n",
       "<table border=\"1\" class=\"dataframe\">\n",
       "  <thead>\n",
       "    <tr style=\"text-align: right;\">\n",
       "      <th></th>\n",
       "      <th>subject</th>\n",
       "      <th>message</th>\n",
       "      <th>label</th>\n",
       "      <th>sub_mssg</th>\n",
       "    </tr>\n",
       "  </thead>\n",
       "  <tbody>\n",
       "    <tr>\n",
       "      <th>0</th>\n",
       "      <td>job posting - apple-iss research center</td>\n",
       "      <td>content - length : 3386 apple-iss research cen...</td>\n",
       "      <td>0</td>\n",
       "      <td>job posting - apple-iss research centercontent...</td>\n",
       "    </tr>\n",
       "    <tr>\n",
       "      <th>1</th>\n",
       "      <td>sociolinguistics</td>\n",
       "      <td>lang classification grimes , joseph e . and ba...</td>\n",
       "      <td>0</td>\n",
       "      <td>sociolinguisticslang classification grimes , j...</td>\n",
       "    </tr>\n",
       "    <tr>\n",
       "      <th>2</th>\n",
       "      <td>query : letter frequencies for text identifica...</td>\n",
       "      <td>i am posting this inquiry for sergei atamas ( ...</td>\n",
       "      <td>0</td>\n",
       "      <td>query : letter frequencies for text identifica...</td>\n",
       "    </tr>\n",
       "    <tr>\n",
       "      <th>3</th>\n",
       "      <td>risk</td>\n",
       "      <td>a colleague and i are researching the differin...</td>\n",
       "      <td>0</td>\n",
       "      <td>riska colleague and i are researching the diff...</td>\n",
       "    </tr>\n",
       "    <tr>\n",
       "      <th>4</th>\n",
       "      <td>request book information</td>\n",
       "      <td>earlier this morning i was on the phone with a...</td>\n",
       "      <td>0</td>\n",
       "      <td>request book informationearlier this morning i...</td>\n",
       "    </tr>\n",
       "  </tbody>\n",
       "</table>\n",
       "</div>"
      ],
      "text/plain": [
       "                                             subject  \\\n",
       "0            job posting - apple-iss research center   \n",
       "1                                   sociolinguistics   \n",
       "2  query : letter frequencies for text identifica...   \n",
       "3                                               risk   \n",
       "4                           request book information   \n",
       "\n",
       "                                             message  label  \\\n",
       "0  content - length : 3386 apple-iss research cen...      0   \n",
       "1  lang classification grimes , joseph e . and ba...      0   \n",
       "2  i am posting this inquiry for sergei atamas ( ...      0   \n",
       "3  a colleague and i are researching the differin...      0   \n",
       "4  earlier this morning i was on the phone with a...      0   \n",
       "\n",
       "                                            sub_mssg  \n",
       "0  job posting - apple-iss research centercontent...  \n",
       "1  sociolinguisticslang classification grimes , j...  \n",
       "2  query : letter frequencies for text identifica...  \n",
       "3  riska colleague and i are researching the diff...  \n",
       "4  request book informationearlier this morning i...  "
      ]
     },
     "execution_count": 17,
     "metadata": {},
     "output_type": "execute_result"
    }
   ],
   "source": [
    "df['sub_mssg']=df['subject']+df['message']\n",
    "df.head()"
   ]
  },
  {
   "cell_type": "code",
   "execution_count": 18,
   "metadata": {
    "execution": {
     "iopub.execute_input": "2020-09-19T17:52:15.409644Z",
     "iopub.status.busy": "2020-09-19T17:52:15.408825Z",
     "iopub.status.idle": "2020-09-19T17:52:15.422313Z",
     "shell.execute_reply": "2020-09-19T17:52:15.421602Z"
    },
    "papermill": {
     "duration": 0.087777,
     "end_time": "2020-09-19T17:52:15.422468",
     "exception": false,
     "start_time": "2020-09-19T17:52:15.334691",
     "status": "completed"
    },
    "tags": []
   },
   "outputs": [
    {
     "data": {
      "text/plain": [
       "count                                                  2893\n",
       "unique                                                 2876\n",
       "top       re := 20 the virtual girlfriend and virtual bo...\n",
       "freq                                                      4\n",
       "Name: sub_mssg, dtype: object"
      ]
     },
     "execution_count": 18,
     "metadata": {},
     "output_type": "execute_result"
    }
   ],
   "source": [
    "df['sub_mssg'].describe()"
   ]
  },
  {
   "cell_type": "code",
   "execution_count": 19,
   "metadata": {
    "execution": {
     "iopub.execute_input": "2020-09-19T17:52:15.565587Z",
     "iopub.status.busy": "2020-09-19T17:52:15.564497Z",
     "iopub.status.idle": "2020-09-19T17:52:15.570012Z",
     "shell.execute_reply": "2020-09-19T17:52:15.569386Z"
    },
    "papermill": {
     "duration": 0.086574,
     "end_time": "2020-09-19T17:52:15.570149",
     "exception": false,
     "start_time": "2020-09-19T17:52:15.483575",
     "status": "completed"
    },
    "tags": []
   },
   "outputs": [
    {
     "data": {
      "text/html": [
       "<div>\n",
       "<style scoped>\n",
       "    .dataframe tbody tr th:only-of-type {\n",
       "        vertical-align: middle;\n",
       "    }\n",
       "\n",
       "    .dataframe tbody tr th {\n",
       "        vertical-align: top;\n",
       "    }\n",
       "\n",
       "    .dataframe thead th {\n",
       "        text-align: right;\n",
       "    }\n",
       "</style>\n",
       "<table border=\"1\" class=\"dataframe\">\n",
       "  <thead>\n",
       "    <tr style=\"text-align: right;\">\n",
       "      <th></th>\n",
       "      <th>subject</th>\n",
       "      <th>message</th>\n",
       "      <th>label</th>\n",
       "      <th>sub_mssg</th>\n",
       "      <th>length</th>\n",
       "    </tr>\n",
       "  </thead>\n",
       "  <tbody>\n",
       "    <tr>\n",
       "      <th>0</th>\n",
       "      <td>job posting - apple-iss research center</td>\n",
       "      <td>content - length : 3386 apple-iss research cen...</td>\n",
       "      <td>0</td>\n",
       "      <td>job posting - apple-iss research centercontent...</td>\n",
       "      <td>2895</td>\n",
       "    </tr>\n",
       "    <tr>\n",
       "      <th>1</th>\n",
       "      <td>sociolinguistics</td>\n",
       "      <td>lang classification grimes , joseph e . and ba...</td>\n",
       "      <td>0</td>\n",
       "      <td>sociolinguisticslang classification grimes , j...</td>\n",
       "      <td>1816</td>\n",
       "    </tr>\n",
       "    <tr>\n",
       "      <th>2</th>\n",
       "      <td>query : letter frequencies for text identifica...</td>\n",
       "      <td>i am posting this inquiry for sergei atamas ( ...</td>\n",
       "      <td>0</td>\n",
       "      <td>query : letter frequencies for text identifica...</td>\n",
       "      <td>1485</td>\n",
       "    </tr>\n",
       "    <tr>\n",
       "      <th>3</th>\n",
       "      <td>risk</td>\n",
       "      <td>a colleague and i are researching the differin...</td>\n",
       "      <td>0</td>\n",
       "      <td>riska colleague and i are researching the diff...</td>\n",
       "      <td>328</td>\n",
       "    </tr>\n",
       "    <tr>\n",
       "      <th>4</th>\n",
       "      <td>request book information</td>\n",
       "      <td>earlier this morning i was on the phone with a...</td>\n",
       "      <td>0</td>\n",
       "      <td>request book informationearlier this morning i...</td>\n",
       "      <td>1070</td>\n",
       "    </tr>\n",
       "  </tbody>\n",
       "</table>\n",
       "</div>"
      ],
      "text/plain": [
       "                                             subject  \\\n",
       "0            job posting - apple-iss research center   \n",
       "1                                   sociolinguistics   \n",
       "2  query : letter frequencies for text identifica...   \n",
       "3                                               risk   \n",
       "4                           request book information   \n",
       "\n",
       "                                             message  label  \\\n",
       "0  content - length : 3386 apple-iss research cen...      0   \n",
       "1  lang classification grimes , joseph e . and ba...      0   \n",
       "2  i am posting this inquiry for sergei atamas ( ...      0   \n",
       "3  a colleague and i are researching the differin...      0   \n",
       "4  earlier this morning i was on the phone with a...      0   \n",
       "\n",
       "                                            sub_mssg  length  \n",
       "0  job posting - apple-iss research centercontent...    2895  \n",
       "1  sociolinguisticslang classification grimes , j...    1816  \n",
       "2  query : letter frequencies for text identifica...    1485  \n",
       "3  riska colleague and i are researching the diff...     328  \n",
       "4  request book informationearlier this morning i...    1070  "
      ]
     },
     "execution_count": 19,
     "metadata": {},
     "output_type": "execute_result"
    }
   ],
   "source": [
    "df['length']=df['sub_mssg'].apply(len)\n",
    "df.head()"
   ]
  },
  {
   "cell_type": "code",
   "execution_count": 20,
   "metadata": {
    "execution": {
     "iopub.execute_input": "2020-09-19T17:52:15.702141Z",
     "iopub.status.busy": "2020-09-19T17:52:15.700127Z",
     "iopub.status.idle": "2020-09-19T17:52:15.705888Z",
     "shell.execute_reply": "2020-09-19T17:52:15.705236Z"
    },
    "papermill": {
     "duration": 0.074072,
     "end_time": "2020-09-19T17:52:15.706060",
     "exception": false,
     "start_time": "2020-09-19T17:52:15.631988",
     "status": "completed"
    },
    "tags": []
   },
   "outputs": [],
   "source": [
    "#now i'm going to drop un-necessary features \n",
    "df.drop('subject',axis=1,inplace=True)"
   ]
  },
  {
   "cell_type": "code",
   "execution_count": 21,
   "metadata": {
    "execution": {
     "iopub.execute_input": "2020-09-19T17:52:15.841271Z",
     "iopub.status.busy": "2020-09-19T17:52:15.840133Z",
     "iopub.status.idle": "2020-09-19T17:52:15.845260Z",
     "shell.execute_reply": "2020-09-19T17:52:15.844467Z"
    },
    "papermill": {
     "duration": 0.077954,
     "end_time": "2020-09-19T17:52:15.845421",
     "exception": false,
     "start_time": "2020-09-19T17:52:15.767467",
     "status": "completed"
    },
    "tags": []
   },
   "outputs": [
    {
     "data": {
      "text/html": [
       "<div>\n",
       "<style scoped>\n",
       "    .dataframe tbody tr th:only-of-type {\n",
       "        vertical-align: middle;\n",
       "    }\n",
       "\n",
       "    .dataframe tbody tr th {\n",
       "        vertical-align: top;\n",
       "    }\n",
       "\n",
       "    .dataframe thead th {\n",
       "        text-align: right;\n",
       "    }\n",
       "</style>\n",
       "<table border=\"1\" class=\"dataframe\">\n",
       "  <thead>\n",
       "    <tr style=\"text-align: right;\">\n",
       "      <th></th>\n",
       "      <th>message</th>\n",
       "      <th>label</th>\n",
       "      <th>sub_mssg</th>\n",
       "      <th>length</th>\n",
       "    </tr>\n",
       "  </thead>\n",
       "  <tbody>\n",
       "    <tr>\n",
       "      <th>0</th>\n",
       "      <td>content - length : 3386 apple-iss research cen...</td>\n",
       "      <td>0</td>\n",
       "      <td>job posting - apple-iss research centercontent...</td>\n",
       "      <td>2895</td>\n",
       "    </tr>\n",
       "    <tr>\n",
       "      <th>1</th>\n",
       "      <td>lang classification grimes , joseph e . and ba...</td>\n",
       "      <td>0</td>\n",
       "      <td>sociolinguisticslang classification grimes , j...</td>\n",
       "      <td>1816</td>\n",
       "    </tr>\n",
       "    <tr>\n",
       "      <th>2</th>\n",
       "      <td>i am posting this inquiry for sergei atamas ( ...</td>\n",
       "      <td>0</td>\n",
       "      <td>query : letter frequencies for text identifica...</td>\n",
       "      <td>1485</td>\n",
       "    </tr>\n",
       "    <tr>\n",
       "      <th>3</th>\n",
       "      <td>a colleague and i are researching the differin...</td>\n",
       "      <td>0</td>\n",
       "      <td>riska colleague and i are researching the diff...</td>\n",
       "      <td>328</td>\n",
       "    </tr>\n",
       "    <tr>\n",
       "      <th>4</th>\n",
       "      <td>earlier this morning i was on the phone with a...</td>\n",
       "      <td>0</td>\n",
       "      <td>request book informationearlier this morning i...</td>\n",
       "      <td>1070</td>\n",
       "    </tr>\n",
       "  </tbody>\n",
       "</table>\n",
       "</div>"
      ],
      "text/plain": [
       "                                             message  label  \\\n",
       "0  content - length : 3386 apple-iss research cen...      0   \n",
       "1  lang classification grimes , joseph e . and ba...      0   \n",
       "2  i am posting this inquiry for sergei atamas ( ...      0   \n",
       "3  a colleague and i are researching the differin...      0   \n",
       "4  earlier this morning i was on the phone with a...      0   \n",
       "\n",
       "                                            sub_mssg  length  \n",
       "0  job posting - apple-iss research centercontent...    2895  \n",
       "1  sociolinguisticslang classification grimes , j...    1816  \n",
       "2  query : letter frequencies for text identifica...    1485  \n",
       "3  riska colleague and i are researching the diff...     328  \n",
       "4  request book informationearlier this morning i...    1070  "
      ]
     },
     "execution_count": 21,
     "metadata": {},
     "output_type": "execute_result"
    }
   ],
   "source": [
    "# check it once \n",
    "df.head()"
   ]
  },
  {
   "cell_type": "markdown",
   "metadata": {
    "papermill": {
     "duration": 0.063492,
     "end_time": "2020-09-19T17:52:15.971527",
     "exception": false,
     "start_time": "2020-09-19T17:52:15.908035",
     "status": "completed"
    },
    "tags": []
   },
   "source": [
    "Data Visualization"
   ]
  },
  {
   "cell_type": "code",
   "execution_count": 22,
   "metadata": {
    "execution": {
     "iopub.execute_input": "2020-09-19T17:52:16.110975Z",
     "iopub.status.busy": "2020-09-19T17:52:16.109486Z",
     "iopub.status.idle": "2020-09-19T17:52:16.266790Z",
     "shell.execute_reply": "2020-09-19T17:52:16.265946Z"
    },
    "papermill": {
     "duration": 0.231627,
     "end_time": "2020-09-19T17:52:16.266945",
     "exception": false,
     "start_time": "2020-09-19T17:52:16.035318",
     "status": "completed"
    },
    "tags": []
   },
   "outputs": [
    {
     "data": {
      "image/png": "[encoded data removed]",
      "text/plain": [
       "<Figure size 1400x1120 with 1 Axes>"
      ]
     },
     "metadata": {},
     "output_type": "display_data"
    }
   ],
   "source": [
    "lb=df['label'].value_counts().index.tolist()\n",
    "val=df['label'].value_counts().values.tolist()\n",
    "exp=(0.025,0)\n",
    "clr=('orange','blue')\n",
    "plt.figure(figsize=(10,8),dpi=140)\n",
    "plt.pie(x=val,explode=exp,labels=lb,colors=clr,autopct='%2.0f%%',pctdistance=0.5, shadow=True,radius=0.9)\n",
    "plt.legend([\"0 = NO SPAM\",'1 = SPAM'])\n",
    "plt.show()"
   ]
  },
  {
   "cell_type": "markdown",
   "metadata": {
    "papermill": {
     "duration": 0.064827,
     "end_time": "2020-09-19T17:52:16.397479",
     "exception": false,
     "start_time": "2020-09-19T17:52:16.332652",
     "status": "completed"
    },
    "tags": []
   },
   "source": [
    "Preprocessing Email Messages :"
   ]
  },
  {
   "cell_type": "code",
   "execution_count": 23,
   "metadata": {
    "execution": {
     "iopub.execute_input": "2020-09-19T17:52:16.536378Z",
     "iopub.status.busy": "2020-09-19T17:52:16.535286Z",
     "iopub.status.idle": "2020-09-19T17:52:16.540823Z",
     "shell.execute_reply": "2020-09-19T17:52:16.540196Z"
    },
    "papermill": {
     "duration": 0.07775,
     "end_time": "2020-09-19T17:52:16.540970",
     "exception": false,
     "start_time": "2020-09-19T17:52:16.463220",
     "status": "completed"
    },
    "tags": []
   },
   "outputs": [
    {
     "data": {
      "text/plain": [
       "\"content - length : 3386 apple-iss research center a us $ 10 million joint venture between apple computer inc . and the institute of systems science of the national university of singapore , located in singapore , is looking for : a senior speech scientist - - - - - - - - - - - - - - - - - - - - - - - - - the successful candidate will have research expertise in computational linguistics , including natural language processing and * * english * * and * * chinese * * statistical language modeling . knowledge of state-of - the-art corpus-based n - gram language models , cache language models , and part-of - speech language models are required . a text - to - speech project leader - - - - - - - - - - - - - - - - - - - - - - - - - - - - - - - the successful candidate will have research expertise expertise in two or more of the following areas : computational linguistics , including natural language parsing , lexical database design , and statistical language modeling ; text tokenization and normalization ; prosodic analysis . substantial knowledge of the phonology , syntax , and semantics of chinese is required . knowledge of acoustic phonetics and / or speech signal processing is desirable . both candidates will have a phd with at least 2 to 4 years of relevant work experience , or a technical msc degree with at least 5 to 7 years of experienc e . very strong software engineering skills , including design and implementation , and productization are required in these positions . knowledge of c , c + + and unix are preferred . a unix & c programmer - - - - - - - - - - - - - - - - - - - - we are looking for an experienced unix & c programmer , preferably with good industry experience , to join us in breaking new frontiers . strong knowledge of unix tools ( compilers , linkers , make , x - windows , e - mac , . . . ) and experience in matlab required . sun and silicon graphic experience is an advantage . programmers with less than two years industry experience need not apply . these positions include interaction with scientists in the national university of singapore , and with apple 's speech research and productization efforts located in cupertino , california . attendance and publication in international scientific / engineering conferences is encouraged . benefits include an internationally competitive salary , housing subsidy , and relocation expenses . _ _ _ _ _ _ _ _ _ _ _ _ _ _ _ _ _ _ _ _ _ _ _ _ _ _ _ _ _ _ _ _ _ _ _ _ _ _ _ _ _ _ _ _ _ _ _ _ _ _ _ _ _ _ _ _ _ _ _ _ _ _ _ _ _ _ send a complete resume , enclosing personal particulars , qualifications , experience and contact telephone number to : mr jean - luc lebrun center manager apple - iss research center , institute of systems science heng mui keng terrace , singapore 0511 tel : ( 65 ) 772-6571 fax : ( 65 ) 776-4005 email : jllebrun @ iss . nus . sg\\n\""
      ]
     },
     "execution_count": 23,
     "metadata": {},
     "output_type": "execute_result"
    }
   ],
   "source": [
    "df['message'][0]"
   ]
  },
  {
   "cell_type": "code",
   "execution_count": 24,
   "metadata": {
    "execution": {
     "iopub.execute_input": "2020-09-19T17:52:16.679490Z",
     "iopub.status.busy": "2020-09-19T17:52:16.678607Z",
     "iopub.status.idle": "2020-09-19T17:52:16.682409Z",
     "shell.execute_reply": "2020-09-19T17:52:16.681752Z"
    },
    "papermill": {
     "duration": 0.075633,
     "end_time": "2020-09-19T17:52:16.682544",
     "exception": false,
     "start_time": "2020-09-19T17:52:16.606911",
     "status": "completed"
    },
    "tags": []
   },
   "outputs": [],
   "source": [
    "import re"
   ]
  },
  {
   "cell_type": "code",
   "execution_count": 25,
   "metadata": {
    "execution": {
     "iopub.execute_input": "2020-09-19T17:52:16.825429Z",
     "iopub.status.busy": "2020-09-19T17:52:16.824365Z",
     "iopub.status.idle": "2020-09-19T17:52:16.828419Z",
     "shell.execute_reply": "2020-09-19T17:52:16.827619Z"
    },
    "papermill": {
     "duration": 0.080293,
     "end_time": "2020-09-19T17:52:16.828567",
     "exception": false,
     "start_time": "2020-09-19T17:52:16.748274",
     "status": "completed"
    },
    "tags": []
   },
   "outputs": [],
   "source": [
    "def decontact(phrase):\n",
    "    # specific\n",
    "    phrase = re.sub(r\"won't\", \"will not\", phrase)\n",
    "    phrase = re.sub(r\"can\\'t\", \"can not\", phrase)\n",
    "\n",
    "    # general\n",
    "    phrase = re.sub(r\"n\\'t\", \" not\", phrase)\n",
    "    phrase = re.sub(r\"\\'re\", \" are\", phrase)\n",
    "    phrase = re.sub(r\"\\'s\", \" is\", phrase)\n",
    "    phrase = re.sub(r\"\\'d\", \" would\", phrase)\n",
    "    phrase = re.sub(r\"\\'ll\", \" will\", phrase)\n",
    "    phrase = re.sub(r\"\\'t\", \" not\", phrase)\n",
    "    phrase = re.sub(r\"\\'ve\", \" have\", phrase)\n",
    "    phrase = re.sub(r\"\\'m\", \" am\", phrase)\n",
    "    return phrase"
   ]
  },
  {
   "cell_type": "code",
   "execution_count": 26,
   "metadata": {
    "execution": {
     "iopub.execute_input": "2020-09-19T17:52:16.969820Z",
     "iopub.status.busy": "2020-09-19T17:52:16.968766Z",
     "iopub.status.idle": "2020-09-19T17:52:16.974019Z",
     "shell.execute_reply": "2020-09-19T17:52:16.973374Z"
    },
    "papermill": {
     "duration": 0.078421,
     "end_time": "2020-09-19T17:52:16.974156",
     "exception": false,
     "start_time": "2020-09-19T17:52:16.895735",
     "status": "completed"
    },
    "tags": []
   },
   "outputs": [
    {
     "data": {
      "text/plain": [
       "'hi , i am new to the list . and since english is not my first language , i apologize for the mistakes you might find below : - ) . i hope that you will not mind if some of my explanations are in french . for my ph . d . semiotics , i am writing a dissertation on discourse and science-fiction and i need some information about the construction of neologisms in french and in english . ( neologisms are useful in sf , specially in the scientific field ! ) in french , neologisms are made in 5 different ways ( i hope these are the right english words ) : derivation ; composition ; imitation ; pure invention ; amalgam . one might also add borrowings from other languages . here are some examples ( sorry , the explanations are in french ) : - derivation : mot derive : \" position \" peut produire le verbe \" positionner \" ; - composition : mot compose : si \" monotone \" est decompose ( \" mono \" / \" tone \" ) , on peut recomposer \" polytone \" ; a partir de \" telephone \" on peut produire en science-fiction \" videophone \" . - imitation : souvent a partir d \\' une onomatopee : a partir de l \\' onomatopee \" couac \" on peut parler d \\' un \" couac \" ( = un nom ) ; - invention : mot forge : se distingue des autres categories car on ne reconnait dans la morphologie du mot aucun terme existant ( ex . : \" emparouille \" , \" endosque \" , \" pratele \" , \" libucque \" , \" ecorbalise \" - extraits d \\' henri michaux ) . cette categorie est contestee car certains pretendent qu \\' il est toujours possible de retrouver la racine . - amalgam : mot - valise : reunion de deux mots sur la base d \\' une homonymie partielle ; ainsi \" famille \" et \" millionnaire \" peuvent donner \" famillionnaire \" . in the every day french language , the 3 first ( mostly the 2 first ) processes are more frequent and the 2 others are used in the literary ( and humoristic ) discourse . my question ( s ) is ( are ) about the construction of neologisms in english . 1 ) does english use the same processes ? 2 ) even if it does , are the processes of the same importance in both languages ? 3 ) what would be the most frequent ones ? 4 ) what are the major differences ? 5 ) etc . thank you in advance , sylvie berard - - - - - - - - - - - - - - - - - - - - - - - - - - - - - - - - - - - - - - - - - - - - - - - - - - - - - - - - - - - - - - - - - - - - - - - - - - - - - sylvie berard \" but the fact is , i really , really hate d346215 @ er . uqam . ca housework , even when universite du quebec a montreal someone else is doing it . \" - - - - - - - - - - - - - - - - - - - - - - - - - - - - - - - - - - - - - - - - - - - - - - - - - - - - - - - - - - - - - - - - - - - - - - - -\\n'"
      ]
     },
     "execution_count": 26,
     "metadata": {},
     "output_type": "execute_result"
    }
   ],
   "source": [
    "mssg=decontact(df['message'][70])\n",
    "mssg"
   ]
  },
  {
   "cell_type": "code",
   "execution_count": 27,
   "metadata": {
    "execution": {
     "iopub.execute_input": "2020-09-19T17:52:17.168584Z",
     "iopub.status.busy": "2020-09-19T17:52:17.141506Z",
     "iopub.status.idle": "2020-09-19T17:52:17.736401Z",
     "shell.execute_reply": "2020-09-19T17:52:17.735745Z"
    },
    "papermill": {
     "duration": 0.696107,
     "end_time": "2020-09-19T17:52:17.736526",
     "exception": false,
     "start_time": "2020-09-19T17:52:17.040419",
     "status": "completed"
    },
    "tags": []
   },
   "outputs": [
    {
     "data": {
      "text/plain": [
       "\"job posting - apple-iss research centercontent - length : numbers apple-iss research center a us $ numbers million joint venture between apple computer inc . and the institute of systems science of the national university of singapore , located in singapore , is looking for : a senior speech scientist - - - - - - - - - - - - - - - - - - - - - - - - - the successful candidate will have research expertise in computational linguistics , including natural language processing and * * english * * and * * chinese * * statistical language modeling . knowledge of state-of - the-art corpus-based n - gram language models , cache language models , and part-of - speech language models are required . a text - to - speech project leader - - - - - - - - - - - - - - - - - - - - - - - - - - - - - - - the successful candidate will have research expertise expertise in two or more of the following areas : computational linguistics , including natural language parsing , lexical database design , and statistical language modeling ; text tokenization and normalization ; prosodic analysis . substantial knowledge of the phonology , syntax , and semantics of chinese is required . knowledge of acoustic phonetics and / or speech signal processing is desirable . both candidates will have a phd with at least numbers to numbers years of relevant work experience , or a technical msc degree with at least numbers to numbers years of experienc e . very strong software engineering skills , including design and implementation , and productization are required in these positions . knowledge of c , c + + and unix are preferred . a unix & c programmer - - - - - - - - - - - - - - - - - - - - we are looking for an experienced unix & c programmer , preferably with good industry experience , to join us in breaking new frontiers . strong knowledge of unix tools ( compilers , linkers , make , x - windows , e - mac , . . . ) and experience in matlab required . sun and silicon graphic experience is an advantage . programmers with less than two years industry experience need not apply . these positions include interaction with scientists in the national university of singapore , and with apple 's speech research and productization efforts located in cupertino , california . attendance and publication in international scientific / engineering conferences is encouraged . benefits include an internationally competitive salary , housing subsidy , and relocation expenses . _ _ _ _ _ _ _ _ _ _ _ _ _ _ _ _ _ _ _ _ _ _ _ _ _ _ _ _ _ _ _ _ _ _ _ _ _ _ _ _ _ _ _ _ _ _ _ _ _ _ _ _ _ _ _ _ _ _ _ _ _ _ _ _ _ _ send a complete resume , enclosing personal particulars , qualifications , experience and contact telephone number to : mr jean - luc lebrun center manager apple - iss research center , institute of systems science heng mui keng terrace , singapore numbers tel : ( numbers ) numbers-numbers fax : ( numbers ) numbers-numbers email : jllebrun @ iss . nus . sg\\n\""
      ]
     },
     "execution_count": 27,
     "metadata": {},
     "output_type": "execute_result"
    }
   ],
   "source": [
    "#REPLACING NUMBERS\n",
    "df['sub_mssg']=df['sub_mssg'].str.replace(r'\\d+(\\.\\d+)?', 'numbers')\n",
    "df['sub_mssg'][0]"
   ]
  },
  {
   "cell_type": "code",
   "execution_count": 28,
   "metadata": {
    "execution": {
     "iopub.execute_input": "2020-09-19T17:52:17.947941Z",
     "iopub.status.busy": "2020-09-19T17:52:17.906700Z",
     "iopub.status.idle": "2020-09-19T17:52:21.634025Z",
     "shell.execute_reply": "2020-09-19T17:52:21.633392Z"
    },
    "papermill": {
     "duration": 3.826024,
     "end_time": "2020-09-19T17:52:21.634166",
     "exception": false,
     "start_time": "2020-09-19T17:52:17.808142",
     "status": "completed"
    },
    "tags": []
   },
   "outputs": [],
   "source": [
    "#CONVRTING EVERYTHING TO LOWERCASE\n",
    "df['sub_mssg']=df['sub_mssg'].str.lower()\n",
    "#REPLACING NEXT LINES BY 'WHITE SPACE'\n",
    "df['sub_mssg']=df['sub_mssg'].str.replace(r'\\n',\" \") \n",
    "# REPLACING EMAIL IDs BY 'MAILID'\n",
    "df['sub_mssg']=df['sub_mssg'].str.replace(r'^.+@[^\\.].*\\.[a-z]{2,}$','MailID')\n",
    "# REPLACING URLs  BY 'Links'\n",
    "df['sub_mssg']=df['sub_mssg'].str.replace(r'^http\\://[a-zA-Z0-9\\-\\.]+\\.[a-zA-Z]{2,3}(/\\S*)?$','Links')\n",
    "# REPLACING CURRENCY SIGNS BY 'MONEY'\n",
    "df['sub_mssg']=df['sub_mssg'].str.replace(r'£|\\$', 'Money')\n",
    "# REPLACING LARGE WHITE SPACE BY SINGLE WHITE SPACE\n",
    "df['sub_mssg']=df['sub_mssg'].str.replace(r'\\s+', ' ')\n",
    "\n",
    "# REPLACING LEADING AND TRAILING WHITE SPACE BY SINGLE WHITE SPACE\n",
    "df['sub_mssg']=df['sub_mssg'].str.replace(r'^\\s+|\\s+?$', '')\n",
    "#REPLACING CONTACT NUMBERS\n",
    "df['sub_mssg']=df['sub_mssg'].str.replace(r'^\\(?[\\d]{3}\\)?[\\s-]?[\\d]{3}[\\s-]?[\\d]{4}$','contact number')\n",
    "#REPLACING SPECIAL CHARACTERS  BY WHITE SPACE \n",
    "df['sub_mssg']=df['sub_mssg'].str.replace(r\"[^a-zA-Z0-9]+\", \" \")"
   ]
  },
  {
   "cell_type": "code",
   "execution_count": 29,
   "metadata": {
    "execution": {
     "iopub.execute_input": "2020-09-19T17:52:21.808669Z",
     "iopub.status.busy": "2020-09-19T17:52:21.777822Z",
     "iopub.status.idle": "2020-09-19T17:52:25.441371Z",
     "shell.execute_reply": "2020-09-19T17:52:25.440709Z"
    },
    "papermill": {
     "duration": 3.740088,
     "end_time": "2020-09-19T17:52:25.441524",
     "exception": false,
     "start_time": "2020-09-19T17:52:21.701436",
     "status": "completed"
    },
    "tags": []
   },
   "outputs": [],
   "source": [
    "#CONVRTING EVERYTHING TO LOWERCASE\n",
    "df['message']=df['message'].str.lower()\n",
    "#REPLACING NEXT LINES BY 'WHITE SPACE'\n",
    "df['message']=df['message'].str.replace(r'\\n',\" \") \n",
    "# REPLACING EMAIL IDs BY 'MAILID'\n",
    "df['message']=df['message'].str.replace(r'^.+@[^\\.].*\\.[a-z]{2,}$','MailID')\n",
    "# REPLACING URLs  BY 'Links'\n",
    "df['message']=df['message'].str.replace(r'^http\\://[a-zA-Z0-9\\-\\.]+\\.[a-zA-Z]{2,3}(/\\S*)?$','Links')\n",
    "# REPLACING CURRENCY SIGNS BY 'MONEY'\n",
    "df['message']=df['message'].str.replace(r'£|\\$', 'Money')\n",
    "# REPLACING LARGE WHITE SPACE BY SINGLE WHITE SPACE\n",
    "df['message']=df['message'].str.replace(r'\\s+', ' ')\n",
    "\n",
    "# REPLACING LEADING AND TRAILING WHITE SPACE BY SINGLE WHITE SPACE\n",
    "df['message']=df['message'].str.replace(r'^\\s+|\\s+?$', '')\n",
    "#REPLACING CONTACT NUMBERS\n",
    "df['message']=df['message'].str.replace(r'^\\(?[\\d]{3}\\)?[\\s-]?[\\d]{3}[\\s-]?[\\d]{4}$','contact number')\n",
    "#REPLACING SPECIAL CHARACTERS  BY WHITE SPACE \n",
    "df['message']=df['message'].str.replace(r\"[^a-zA-Z0-9]+\", \" \")"
   ]
  },
  {
   "cell_type": "code",
   "execution_count": 30,
   "metadata": {
    "execution": {
     "iopub.execute_input": "2020-09-19T17:52:25.586765Z",
     "iopub.status.busy": "2020-09-19T17:52:25.585573Z",
     "iopub.status.idle": "2020-09-19T17:52:25.590497Z",
     "shell.execute_reply": "2020-09-19T17:52:25.589852Z"
    },
    "papermill": {
     "duration": 0.079637,
     "end_time": "2020-09-19T17:52:25.590631",
     "exception": false,
     "start_time": "2020-09-19T17:52:25.510994",
     "status": "completed"
    },
    "tags": []
   },
   "outputs": [
    {
     "data": {
      "text/plain": [
       "'job posting apple iss research centercontent length numbers apple iss research center a us Money numbers million joint venture between apple computer inc and the institute of systems science of the national university of singapore located in singapore is looking for a senior speech scientist the successful candidate will have research expertise in computational linguistics including natural language processing and english and chinese statistical language modeling knowledge of state of the art corpus based n gram language models cache language models and part of speech language models are required a text to speech project leader the successful candidate will have research expertise expertise in two or more of the following areas computational linguistics including natural language parsing lexical database design and statistical language modeling text tokenization and normalization prosodic analysis substantial knowledge of the phonology syntax and semantics of chinese is required knowledge of acoustic phonetics and or speech signal processing is desirable both candidates will have a phd with at least numbers to numbers years of relevant work experience or a technical msc degree with at least numbers to numbers years of experienc e very strong software engineering skills including design and implementation and productization are required in these positions knowledge of c c and unix are preferred a unix c programmer we are looking for an experienced unix c programmer preferably with good industry experience to join us in breaking new frontiers strong knowledge of unix tools compilers linkers make x windows e mac and experience in matlab required sun and silicon graphic experience is an advantage programmers with less than two years industry experience need not apply these positions include interaction with scientists in the national university of singapore and with apple s speech research and productization efforts located in cupertino california attendance and publication in international scientific engineering conferences is encouraged benefits include an internationally competitive salary housing subsidy and relocation expenses send a complete resume enclosing personal particulars qualifications experience and contact telephone number to mr jean luc lebrun center manager apple iss research center institute of systems science heng mui keng terrace singapore numbers tel numbers numbers numbers fax numbers numbers numbers email jllebrun iss nus sg'"
      ]
     },
     "execution_count": 30,
     "metadata": {},
     "output_type": "execute_result"
    }
   ],
   "source": [
    "df['sub_mssg'][0]"
   ]
  },
  {
   "cell_type": "code",
   "execution_count": 31,
   "metadata": {
    "execution": {
     "iopub.execute_input": "2020-09-19T17:52:25.739927Z",
     "iopub.status.busy": "2020-09-19T17:52:25.738854Z",
     "iopub.status.idle": "2020-09-19T17:52:25.744600Z",
     "shell.execute_reply": "2020-09-19T17:52:25.743967Z"
    },
    "papermill": {
     "duration": 0.086187,
     "end_time": "2020-09-19T17:52:25.744722",
     "exception": false,
     "start_time": "2020-09-19T17:52:25.658535",
     "status": "completed"
    },
    "tags": []
   },
   "outputs": [
    {
     "data": {
      "text/html": [
       "<div>\n",
       "<style scoped>\n",
       "    .dataframe tbody tr th:only-of-type {\n",
       "        vertical-align: middle;\n",
       "    }\n",
       "\n",
       "    .dataframe tbody tr th {\n",
       "        vertical-align: top;\n",
       "    }\n",
       "\n",
       "    .dataframe thead th {\n",
       "        text-align: right;\n",
       "    }\n",
       "</style>\n",
       "<table border=\"1\" class=\"dataframe\">\n",
       "  <thead>\n",
       "    <tr style=\"text-align: right;\">\n",
       "      <th></th>\n",
       "      <th>message</th>\n",
       "      <th>label</th>\n",
       "      <th>sub_mssg</th>\n",
       "      <th>length</th>\n",
       "    </tr>\n",
       "  </thead>\n",
       "  <tbody>\n",
       "    <tr>\n",
       "      <th>0</th>\n",
       "      <td>content length 3386 apple iss research center ...</td>\n",
       "      <td>0</td>\n",
       "      <td>job posting apple iss research centercontent l...</td>\n",
       "      <td>2895</td>\n",
       "    </tr>\n",
       "    <tr>\n",
       "      <th>1</th>\n",
       "      <td>lang classification grimes joseph e and barbar...</td>\n",
       "      <td>0</td>\n",
       "      <td>sociolinguisticslang classification grimes jos...</td>\n",
       "      <td>1816</td>\n",
       "    </tr>\n",
       "    <tr>\n",
       "      <th>2</th>\n",
       "      <td>i am posting this inquiry for sergei atamas sa...</td>\n",
       "      <td>0</td>\n",
       "      <td>query letter frequencies for text identificati...</td>\n",
       "      <td>1485</td>\n",
       "    </tr>\n",
       "    <tr>\n",
       "      <th>3</th>\n",
       "      <td>a colleague and i are researching the differin...</td>\n",
       "      <td>0</td>\n",
       "      <td>riska colleague and i are researching the diff...</td>\n",
       "      <td>328</td>\n",
       "    </tr>\n",
       "    <tr>\n",
       "      <th>4</th>\n",
       "      <td>earlier this morning i was on the phone with a...</td>\n",
       "      <td>0</td>\n",
       "      <td>request book informationearlier this morning i...</td>\n",
       "      <td>1070</td>\n",
       "    </tr>\n",
       "  </tbody>\n",
       "</table>\n",
       "</div>"
      ],
      "text/plain": [
       "                                             message  label  \\\n",
       "0  content length 3386 apple iss research center ...      0   \n",
       "1  lang classification grimes joseph e and barbar...      0   \n",
       "2  i am posting this inquiry for sergei atamas sa...      0   \n",
       "3  a colleague and i are researching the differin...      0   \n",
       "4  earlier this morning i was on the phone with a...      0   \n",
       "\n",
       "                                            sub_mssg  length  \n",
       "0  job posting apple iss research centercontent l...    2895  \n",
       "1  sociolinguisticslang classification grimes jos...    1816  \n",
       "2  query letter frequencies for text identificati...    1485  \n",
       "3  riska colleague and i are researching the diff...     328  \n",
       "4  request book informationearlier this morning i...    1070  "
      ]
     },
     "execution_count": 31,
     "metadata": {},
     "output_type": "execute_result"
    }
   ],
   "source": [
    "df.head()"
   ]
  },
  {
   "cell_type": "code",
   "execution_count": 32,
   "metadata": {
    "execution": {
     "iopub.execute_input": "2020-09-19T17:52:25.891312Z",
     "iopub.status.busy": "2020-09-19T17:52:25.890400Z",
     "iopub.status.idle": "2020-09-19T17:52:29.361077Z",
     "shell.execute_reply": "2020-09-19T17:52:29.360248Z"
    },
    "papermill": {
     "duration": 3.548109,
     "end_time": "2020-09-19T17:52:29.361224",
     "exception": false,
     "start_time": "2020-09-19T17:52:25.813115",
     "status": "completed"
    },
    "tags": []
   },
   "outputs": [],
   "source": [
    "from tqdm import tqdm\n",
    "from nltk.corpus import stopwords\n",
    "from nltk.tokenize import word_tokenize, sent_tokenize\n",
    "# removing stopwords \n",
    "stop = stopwords.words('english')\n",
    "df['Cleaned_Text'] = df['sub_mssg'].apply(lambda x: ' '.join([word for word in x.split() if word not in (stop)]))"
   ]
  },
  {
   "cell_type": "code",
   "execution_count": 33,
   "metadata": {
    "execution": {
     "iopub.execute_input": "2020-09-19T17:52:29.517280Z",
     "iopub.status.busy": "2020-09-19T17:52:29.516287Z",
     "iopub.status.idle": "2020-09-19T17:52:29.522089Z",
     "shell.execute_reply": "2020-09-19T17:52:29.521378Z"
    },
    "papermill": {
     "duration": 0.090016,
     "end_time": "2020-09-19T17:52:29.522238",
     "exception": false,
     "start_time": "2020-09-19T17:52:29.432222",
     "status": "completed"
    },
    "tags": []
   },
   "outputs": [
    {
     "data": {
      "text/html": [
       "<div>\n",
       "<style scoped>\n",
       "    .dataframe tbody tr th:only-of-type {\n",
       "        vertical-align: middle;\n",
       "    }\n",
       "\n",
       "    .dataframe tbody tr th {\n",
       "        vertical-align: top;\n",
       "    }\n",
       "\n",
       "    .dataframe thead th {\n",
       "        text-align: right;\n",
       "    }\n",
       "</style>\n",
       "<table border=\"1\" class=\"dataframe\">\n",
       "  <thead>\n",
       "    <tr style=\"text-align: right;\">\n",
       "      <th></th>\n",
       "      <th>message</th>\n",
       "      <th>label</th>\n",
       "      <th>sub_mssg</th>\n",
       "      <th>length</th>\n",
       "      <th>Cleaned_Text</th>\n",
       "    </tr>\n",
       "  </thead>\n",
       "  <tbody>\n",
       "    <tr>\n",
       "      <th>0</th>\n",
       "      <td>content length 3386 apple iss research center ...</td>\n",
       "      <td>0</td>\n",
       "      <td>job posting apple iss research centercontent l...</td>\n",
       "      <td>2895</td>\n",
       "      <td>job posting apple iss research centercontent l...</td>\n",
       "    </tr>\n",
       "    <tr>\n",
       "      <th>1</th>\n",
       "      <td>lang classification grimes joseph e and barbar...</td>\n",
       "      <td>0</td>\n",
       "      <td>sociolinguisticslang classification grimes jos...</td>\n",
       "      <td>1816</td>\n",
       "      <td>sociolinguisticslang classification grimes jos...</td>\n",
       "    </tr>\n",
       "    <tr>\n",
       "      <th>2</th>\n",
       "      <td>i am posting this inquiry for sergei atamas sa...</td>\n",
       "      <td>0</td>\n",
       "      <td>query letter frequencies for text identificati...</td>\n",
       "      <td>1485</td>\n",
       "      <td>query letter frequencies text identificationi ...</td>\n",
       "    </tr>\n",
       "    <tr>\n",
       "      <th>3</th>\n",
       "      <td>a colleague and i are researching the differin...</td>\n",
       "      <td>0</td>\n",
       "      <td>riska colleague and i are researching the diff...</td>\n",
       "      <td>328</td>\n",
       "      <td>riska colleague researching differing degrees ...</td>\n",
       "    </tr>\n",
       "    <tr>\n",
       "      <th>4</th>\n",
       "      <td>earlier this morning i was on the phone with a...</td>\n",
       "      <td>0</td>\n",
       "      <td>request book informationearlier this morning i...</td>\n",
       "      <td>1070</td>\n",
       "      <td>request book informationearlier morning phone ...</td>\n",
       "    </tr>\n",
       "  </tbody>\n",
       "</table>\n",
       "</div>"
      ],
      "text/plain": [
       "                                             message  label  \\\n",
       "0  content length 3386 apple iss research center ...      0   \n",
       "1  lang classification grimes joseph e and barbar...      0   \n",
       "2  i am posting this inquiry for sergei atamas sa...      0   \n",
       "3  a colleague and i are researching the differin...      0   \n",
       "4  earlier this morning i was on the phone with a...      0   \n",
       "\n",
       "                                            sub_mssg  length  \\\n",
       "0  job posting apple iss research centercontent l...    2895   \n",
       "1  sociolinguisticslang classification grimes jos...    1816   \n",
       "2  query letter frequencies for text identificati...    1485   \n",
       "3  riska colleague and i are researching the diff...     328   \n",
       "4  request book informationearlier this morning i...    1070   \n",
       "\n",
       "                                        Cleaned_Text  \n",
       "0  job posting apple iss research centercontent l...  \n",
       "1  sociolinguisticslang classification grimes jos...  \n",
       "2  query letter frequencies text identificationi ...  \n",
       "3  riska colleague researching differing degrees ...  \n",
       "4  request book informationearlier morning phone ...  "
      ]
     },
     "execution_count": 33,
     "metadata": {},
     "output_type": "execute_result"
    }
   ],
   "source": [
    "df.head()"
   ]
  },
  {
   "cell_type": "code",
   "execution_count": 34,
   "metadata": {
    "execution": {
     "iopub.execute_input": "2020-09-19T17:52:29.669223Z",
     "iopub.status.busy": "2020-09-19T17:52:29.667109Z",
     "iopub.status.idle": "2020-09-19T17:52:29.672820Z",
     "shell.execute_reply": "2020-09-19T17:52:29.673465Z"
    },
    "papermill": {
     "duration": 0.082195,
     "end_time": "2020-09-19T17:52:29.673667",
     "exception": false,
     "start_time": "2020-09-19T17:52:29.591472",
     "status": "completed"
    },
    "tags": []
   },
   "outputs": [],
   "source": [
    "df.drop('message',axis=1,inplace=True)"
   ]
  },
  {
   "cell_type": "code",
   "execution_count": 35,
   "metadata": {
    "execution": {
     "iopub.execute_input": "2020-09-19T17:52:29.823391Z",
     "iopub.status.busy": "2020-09-19T17:52:29.822348Z",
     "iopub.status.idle": "2020-09-19T17:52:29.826512Z",
     "shell.execute_reply": "2020-09-19T17:52:29.825784Z"
    },
    "papermill": {
     "duration": 0.082244,
     "end_time": "2020-09-19T17:52:29.826666",
     "exception": false,
     "start_time": "2020-09-19T17:52:29.744422",
     "status": "completed"
    },
    "tags": []
   },
   "outputs": [],
   "source": [
    "df.drop('sub_mssg',axis=1,inplace=True)"
   ]
  },
  {
   "cell_type": "code",
   "execution_count": 36,
   "metadata": {
    "execution": {
     "iopub.execute_input": "2020-09-19T17:52:30.054208Z",
     "iopub.status.busy": "2020-09-19T17:52:30.053182Z",
     "iopub.status.idle": "2020-09-19T17:52:30.059225Z",
     "shell.execute_reply": "2020-09-19T17:52:30.058630Z"
    },
    "papermill": {
     "duration": 0.160446,
     "end_time": "2020-09-19T17:52:30.059446",
     "exception": false,
     "start_time": "2020-09-19T17:52:29.899000",
     "status": "completed"
    },
    "tags": []
   },
   "outputs": [
    {
     "data": {
      "text/html": [
       "<div>\n",
       "<style scoped>\n",
       "    .dataframe tbody tr th:only-of-type {\n",
       "        vertical-align: middle;\n",
       "    }\n",
       "\n",
       "    .dataframe tbody tr th {\n",
       "        vertical-align: top;\n",
       "    }\n",
       "\n",
       "    .dataframe thead th {\n",
       "        text-align: right;\n",
       "    }\n",
       "</style>\n",
       "<table border=\"1\" class=\"dataframe\">\n",
       "  <thead>\n",
       "    <tr style=\"text-align: right;\">\n",
       "      <th></th>\n",
       "      <th>label</th>\n",
       "      <th>length</th>\n",
       "      <th>Cleaned_Text</th>\n",
       "    </tr>\n",
       "  </thead>\n",
       "  <tbody>\n",
       "    <tr>\n",
       "      <th>0</th>\n",
       "      <td>0</td>\n",
       "      <td>2895</td>\n",
       "      <td>job posting apple iss research centercontent l...</td>\n",
       "    </tr>\n",
       "    <tr>\n",
       "      <th>1</th>\n",
       "      <td>0</td>\n",
       "      <td>1816</td>\n",
       "      <td>sociolinguisticslang classification grimes jos...</td>\n",
       "    </tr>\n",
       "    <tr>\n",
       "      <th>2</th>\n",
       "      <td>0</td>\n",
       "      <td>1485</td>\n",
       "      <td>query letter frequencies text identificationi ...</td>\n",
       "    </tr>\n",
       "    <tr>\n",
       "      <th>3</th>\n",
       "      <td>0</td>\n",
       "      <td>328</td>\n",
       "      <td>riska colleague researching differing degrees ...</td>\n",
       "    </tr>\n",
       "    <tr>\n",
       "      <th>4</th>\n",
       "      <td>0</td>\n",
       "      <td>1070</td>\n",
       "      <td>request book informationearlier morning phone ...</td>\n",
       "    </tr>\n",
       "  </tbody>\n",
       "</table>\n",
       "</div>"
      ],
      "text/plain": [
       "   label  length                                       Cleaned_Text\n",
       "0      0    2895  job posting apple iss research centercontent l...\n",
       "1      0    1816  sociolinguisticslang classification grimes jos...\n",
       "2      0    1485  query letter frequencies text identificationi ...\n",
       "3      0     328  riska colleague researching differing degrees ...\n",
       "4      0    1070  request book informationearlier morning phone ..."
      ]
     },
     "execution_count": 36,
     "metadata": {},
     "output_type": "execute_result"
    }
   ],
   "source": [
    "df.head()"
   ]
  },
  {
   "cell_type": "code",
   "execution_count": 37,
   "metadata": {
    "execution": {
     "iopub.execute_input": "2020-09-19T17:52:30.215825Z",
     "iopub.status.busy": "2020-09-19T17:52:30.214757Z",
     "iopub.status.idle": "2020-09-19T17:52:30.220271Z",
     "shell.execute_reply": "2020-09-19T17:52:30.219536Z"
    },
    "papermill": {
     "duration": 0.090126,
     "end_time": "2020-09-19T17:52:30.220418",
     "exception": false,
     "start_time": "2020-09-19T17:52:30.130292",
     "status": "completed"
    },
    "tags": []
   },
   "outputs": [
    {
     "data": {
      "text/plain": [
       "label           0\n",
       "length          0\n",
       "Cleaned_Text    0\n",
       "dtype: int64"
      ]
     },
     "execution_count": 37,
     "metadata": {},
     "output_type": "execute_result"
    }
   ],
   "source": [
    "df.apply(lambda x: sum(x.isnull()),axis=0)"
   ]
  },
  {
   "cell_type": "code",
   "execution_count": 38,
   "metadata": {
    "execution": {
     "iopub.execute_input": "2020-09-19T17:52:30.381702Z",
     "iopub.status.busy": "2020-09-19T17:52:30.380784Z",
     "iopub.status.idle": "2020-09-19T17:52:30.385980Z",
     "shell.execute_reply": "2020-09-19T17:52:30.385388Z"
    },
    "papermill": {
     "duration": 0.093131,
     "end_time": "2020-09-19T17:52:30.386098",
     "exception": false,
     "start_time": "2020-09-19T17:52:30.292967",
     "status": "completed"
    },
    "tags": []
   },
   "outputs": [
    {
     "data": {
      "text/html": [
       "<div>\n",
       "<style scoped>\n",
       "    .dataframe tbody tr th:only-of-type {\n",
       "        vertical-align: middle;\n",
       "    }\n",
       "\n",
       "    .dataframe tbody tr th {\n",
       "        vertical-align: top;\n",
       "    }\n",
       "\n",
       "    .dataframe thead th {\n",
       "        text-align: right;\n",
       "    }\n",
       "</style>\n",
       "<table border=\"1\" class=\"dataframe\">\n",
       "  <thead>\n",
       "    <tr style=\"text-align: right;\">\n",
       "      <th></th>\n",
       "      <th>label</th>\n",
       "      <th>length</th>\n",
       "      <th>Cleaned_Text</th>\n",
       "      <th>lgth_clean</th>\n",
       "    </tr>\n",
       "  </thead>\n",
       "  <tbody>\n",
       "    <tr>\n",
       "      <th>0</th>\n",
       "      <td>0</td>\n",
       "      <td>2895</td>\n",
       "      <td>job posting apple iss research centercontent l...</td>\n",
       "      <td>2108</td>\n",
       "    </tr>\n",
       "    <tr>\n",
       "      <th>1</th>\n",
       "      <td>0</td>\n",
       "      <td>1816</td>\n",
       "      <td>sociolinguisticslang classification grimes jos...</td>\n",
       "      <td>1506</td>\n",
       "    </tr>\n",
       "    <tr>\n",
       "      <th>2</th>\n",
       "      <td>0</td>\n",
       "      <td>1485</td>\n",
       "      <td>query letter frequencies text identificationi ...</td>\n",
       "      <td>1150</td>\n",
       "    </tr>\n",
       "    <tr>\n",
       "      <th>3</th>\n",
       "      <td>0</td>\n",
       "      <td>328</td>\n",
       "      <td>riska colleague researching differing degrees ...</td>\n",
       "      <td>216</td>\n",
       "    </tr>\n",
       "    <tr>\n",
       "      <th>4</th>\n",
       "      <td>0</td>\n",
       "      <td>1070</td>\n",
       "      <td>request book informationearlier morning phone ...</td>\n",
       "      <td>653</td>\n",
       "    </tr>\n",
       "  </tbody>\n",
       "</table>\n",
       "</div>"
      ],
      "text/plain": [
       "   label  length                                       Cleaned_Text  \\\n",
       "0      0    2895  job posting apple iss research centercontent l...   \n",
       "1      0    1816  sociolinguisticslang classification grimes jos...   \n",
       "2      0    1485  query letter frequencies text identificationi ...   \n",
       "3      0     328  riska colleague researching differing degrees ...   \n",
       "4      0    1070  request book informationearlier morning phone ...   \n",
       "\n",
       "   lgth_clean  \n",
       "0        2108  \n",
       "1        1506  \n",
       "2        1150  \n",
       "3         216  \n",
       "4         653  "
      ]
     },
     "execution_count": 38,
     "metadata": {},
     "output_type": "execute_result"
    }
   ],
   "source": [
    "df['lgth_clean']=df['Cleaned_Text'].apply(len)\n",
    "df.head()"
   ]
  },
  {
   "cell_type": "code",
   "execution_count": 39,
   "metadata": {
    "execution": {
     "iopub.execute_input": "2020-09-19T17:52:30.537616Z",
     "iopub.status.busy": "2020-09-19T17:52:30.536537Z",
     "iopub.status.idle": "2020-09-19T17:52:30.539779Z",
     "shell.execute_reply": "2020-09-19T17:52:30.539161Z"
    },
    "papermill": {
     "duration": 0.082347,
     "end_time": "2020-09-19T17:52:30.539932",
     "exception": false,
     "start_time": "2020-09-19T17:52:30.457585",
     "status": "completed"
    },
    "tags": []
   },
   "outputs": [],
   "source": [
    "original_length=sum(df['length'])\n",
    "after_cleaning=sum(df['lgth_clean'])"
   ]
  },
  {
   "cell_type": "code",
   "execution_count": 40,
   "metadata": {
    "execution": {
     "iopub.execute_input": "2020-09-19T17:52:30.693160Z",
     "iopub.status.busy": "2020-09-19T17:52:30.692367Z",
     "iopub.status.idle": "2020-09-19T17:52:30.696645Z",
     "shell.execute_reply": "2020-09-19T17:52:30.695657Z"
    },
    "papermill": {
     "duration": 0.08359,
     "end_time": "2020-09-19T17:52:30.696795",
     "exception": false,
     "start_time": "2020-09-19T17:52:30.613205",
     "status": "completed"
    },
    "tags": []
   },
   "outputs": [
    {
     "name": "stdout",
     "output_type": "stream",
     "text": [
      "original_length 9437398\n",
      "after_cleaning 6847913\n"
     ]
    }
   ],
   "source": [
    "print(\"original_length\",original_length)\n",
    "print('after_cleaning',after_cleaning)"
   ]
  },
  {
   "cell_type": "code",
   "execution_count": 41,
   "metadata": {
    "execution": {
     "iopub.execute_input": "2020-09-19T17:52:30.852890Z",
     "iopub.status.busy": "2020-09-19T17:52:30.852054Z",
     "iopub.status.idle": "2020-09-19T17:52:30.858824Z",
     "shell.execute_reply": "2020-09-19T17:52:30.858041Z"
    },
    "papermill": {
     "duration": 0.088745,
     "end_time": "2020-09-19T17:52:30.858959",
     "exception": false,
     "start_time": "2020-09-19T17:52:30.770214",
     "status": "completed"
    },
    "tags": []
   },
   "outputs": [],
   "source": [
    "# 1. Convert text into vectors using TF-IDF\n",
    "# 2. Instantiate MultinomialNB classifier\n",
    "# 3. Split feature and label\n",
    "from sklearn.feature_extraction.text import TfidfVectorizer\n",
    "\n",
    "from sklearn.metrics import accuracy_score, confusion_matrix, classification_report\n",
    "from sklearn.metrics import confusion_matrix\n",
    "from sklearn.metrics import classification_report\n",
    "from sklearn.model_selection import train_test_split\n",
    "from sklearn.metrics import accuracy_score, precision_score, recall_score\n",
    "from sklearn.model_selection import GridSearchCV\n",
    "from sklearn.model_selection import cross_val_score\n",
    "import warnings\n",
    "from sklearn.pipeline import Pipeline"
   ]
  },
  {
   "cell_type": "code",
   "execution_count": 42,
   "metadata": {
    "execution": {
     "iopub.execute_input": "2020-09-19T17:52:31.013687Z",
     "iopub.status.busy": "2020-09-19T17:52:31.012616Z",
     "iopub.status.idle": "2020-09-19T17:52:31.017003Z",
     "shell.execute_reply": "2020-09-19T17:52:31.016299Z"
    },
    "papermill": {
     "duration": 0.084565,
     "end_time": "2020-09-19T17:52:31.017151",
     "exception": false,
     "start_time": "2020-09-19T17:52:30.932586",
     "status": "completed"
    },
    "tags": []
   },
   "outputs": [],
   "source": [
    "tvec = TfidfVectorizer()\n",
    "lr = LogisticRegression(solver = \"lbfgs\")"
   ]
  },
  {
   "cell_type": "code",
   "execution_count": 43,
   "metadata": {
    "execution": {
     "iopub.execute_input": "2020-09-19T17:52:31.181145Z",
     "iopub.status.busy": "2020-09-19T17:52:31.180272Z",
     "iopub.status.idle": "2020-09-19T17:52:31.190087Z",
     "shell.execute_reply": "2020-09-19T17:52:31.189388Z"
    },
    "papermill": {
     "duration": 0.0918,
     "end_time": "2020-09-19T17:52:31.190245",
     "exception": false,
     "start_time": "2020-09-19T17:52:31.098445",
     "status": "completed"
    },
    "tags": []
   },
   "outputs": [],
   "source": [
    "X = df.Cleaned_Text\n",
    "Y = df.label\n",
    "\n",
    "X_train, X_test, Y_train, Y_test = train_test_split(X, Y, test_size = 0.1, random_state = 42,stratify=Y)"
   ]
  },
  {
   "cell_type": "code",
   "execution_count": 44,
   "metadata": {
    "execution": {
     "iopub.execute_input": "2020-09-19T17:52:31.354747Z",
     "iopub.status.busy": "2020-09-19T17:52:31.349310Z",
     "iopub.status.idle": "2020-09-19T17:52:33.169727Z",
     "shell.execute_reply": "2020-09-19T17:52:33.170448Z"
    },
    "papermill": {
     "duration": 1.904898,
     "end_time": "2020-09-19T17:52:33.170698",
     "exception": false,
     "start_time": "2020-09-19T17:52:31.265800",
     "status": "completed"
    },
    "tags": []
   },
   "outputs": [
    {
     "data": {
      "text/plain": [
       "Pipeline(steps=[('vectorizer', TfidfVectorizer()),\n",
       "                ('classifier', LogisticRegression())])"
      ]
     },
     "execution_count": 44,
     "metadata": {},
     "output_type": "execute_result"
    }
   ],
   "source": [
    "model = Pipeline([('vectorizer',tvec),('classifier',lr)])\n",
    "\n",
    "model.fit(X_train,Y_train)"
   ]
  },
  {
   "cell_type": "code",
   "execution_count": 45,
   "metadata": {
    "execution": {
     "iopub.execute_input": "2020-09-19T17:52:33.370153Z",
     "iopub.status.busy": "2020-09-19T17:52:33.349281Z",
     "iopub.status.idle": "2020-09-19T17:52:33.462980Z",
     "shell.execute_reply": "2020-09-19T17:52:33.462303Z"
    },
    "papermill": {
     "duration": 0.214948,
     "end_time": "2020-09-19T17:52:33.463160",
     "exception": false,
     "start_time": "2020-09-19T17:52:33.248212",
     "status": "completed"
    },
    "tags": []
   },
   "outputs": [
    {
     "data": {
      "text/plain": [
       "array([[242,   9],\n",
       "       [  0,  39]])"
      ]
     },
     "execution_count": 45,
     "metadata": {},
     "output_type": "execute_result"
    }
   ],
   "source": [
    "from sklearn.metrics import confusion_matrix\n",
    "\n",
    "y_pred = model.predict(X_test)\n",
    "\n",
    "confusion_matrix(y_pred,Y_test)"
   ]
  },
  {
   "cell_type": "code",
   "execution_count": 46,
   "metadata": {
    "execution": {
     "iopub.execute_input": "2020-09-19T17:52:33.623744Z",
     "iopub.status.busy": "2020-09-19T17:52:33.622845Z",
     "iopub.status.idle": "2020-09-19T17:52:33.633541Z",
     "shell.execute_reply": "2020-09-19T17:52:33.632553Z"
    },
    "papermill": {
     "duration": 0.093667,
     "end_time": "2020-09-19T17:52:33.633726",
     "exception": false,
     "start_time": "2020-09-19T17:52:33.540059",
     "status": "completed"
    },
    "tags": []
   },
   "outputs": [
    {
     "name": "stdout",
     "output_type": "stream",
     "text": [
      "Accuracy :  0.9689655172413794\n",
      "Precision :  0.9747844827586207\n",
      "Recall :  0.9689655172413794\n"
     ]
    }
   ],
   "source": [
    "print(\"Accuracy : \", accuracy_score(y_pred,Y_test))\n",
    "print(\"Precision : \", precision_score(y_pred,Y_test, average = 'weighted'))\n",
    "print(\"Recall : \", recall_score(y_pred,Y_test, average = 'weighted'))"
   ]
  },
  {
   "cell_type": "code",
   "execution_count": 47,
   "metadata": {
    "execution": {
     "iopub.execute_input": "2020-09-19T17:52:33.803587Z",
     "iopub.status.busy": "2020-09-19T17:52:33.798283Z",
     "iopub.status.idle": "2020-09-19T17:52:35.192744Z",
     "shell.execute_reply": "2020-09-19T17:52:35.192054Z"
    },
    "papermill": {
     "duration": 1.483934,
     "end_time": "2020-09-19T17:52:35.192887",
     "exception": false,
     "start_time": "2020-09-19T17:52:33.708953",
     "status": "completed"
    },
    "tags": []
   },
   "outputs": [
    {
     "data": {
      "text/plain": [
       "Pipeline(steps=[('vectorizer', TfidfVectorizer()),\n",
       "                ('classifier', KNeighborsClassifier())])"
      ]
     },
     "execution_count": 47,
     "metadata": {},
     "output_type": "execute_result"
    }
   ],
   "source": [
    "knc = KNeighborsClassifier()\n",
    "model_1 = Pipeline([('vectorizer',tvec),('classifier',knc)])\n",
    "model_1.fit(X_train,Y_train)"
   ]
  },
  {
   "cell_type": "code",
   "execution_count": 48,
   "metadata": {
    "execution": {
     "iopub.execute_input": "2020-09-19T17:52:35.381040Z",
     "iopub.status.busy": "2020-09-19T17:52:35.375566Z",
     "iopub.status.idle": "2020-09-19T17:52:35.639495Z",
     "shell.execute_reply": "2020-09-19T17:52:35.638586Z"
    },
    "papermill": {
     "duration": 0.370691,
     "end_time": "2020-09-19T17:52:35.639656",
     "exception": false,
     "start_time": "2020-09-19T17:52:35.268965",
     "status": "completed"
    },
    "tags": []
   },
   "outputs": [
    {
     "name": "stdout",
     "output_type": "stream",
     "text": [
      "[[237   4]\n",
      " [  5  44]]\n",
      "Accuracy :  0.9689655172413794\n",
      "Precision :  0.9687494062885913\n",
      "Recall :  0.9689655172413794\n"
     ]
    }
   ],
   "source": [
    "y_pred = model_1.predict(X_test)\n",
    "\n",
    "print(confusion_matrix(y_pred,Y_test))\n",
    "print(\"Accuracy : \", accuracy_score(y_pred,Y_test))\n",
    "print(\"Precision : \", precision_score(y_pred,Y_test, average = 'weighted'))\n",
    "print(\"Recall : \", recall_score(y_pred,Y_test, average = 'weighted'))"
   ]
  },
  {
   "cell_type": "code",
   "execution_count": 49,
   "metadata": {
    "execution": {
     "iopub.execute_input": "2020-09-19T17:52:35.843031Z",
     "iopub.status.busy": "2020-09-19T17:52:35.832313Z",
     "iopub.status.idle": "2020-09-19T17:52:41.728351Z",
     "shell.execute_reply": "2020-09-19T17:52:41.727656Z"
    },
    "papermill": {
     "duration": 6.009716,
     "end_time": "2020-09-19T17:52:41.728506",
     "exception": false,
     "start_time": "2020-09-19T17:52:35.718790",
     "status": "completed"
    },
    "tags": []
   },
   "outputs": [
    {
     "data": {
      "text/plain": [
       "Pipeline(steps=[('vectorizer', TfidfVectorizer()),\n",
       "                ('classifier', AdaBoostClassifier())])"
      ]
     },
     "execution_count": 49,
     "metadata": {},
     "output_type": "execute_result"
    }
   ],
   "source": [
    "abc = AdaBoostClassifier()\n",
    "model_3 = Pipeline([('vectorizer',tvec),('classifier',abc)])\n",
    "model_3.fit(X_train,Y_train)\n"
   ]
  },
  {
   "cell_type": "code",
   "execution_count": 50,
   "metadata": {
    "execution": {
     "iopub.execute_input": "2020-09-19T17:52:41.900514Z",
     "iopub.status.busy": "2020-09-19T17:52:41.895286Z",
     "iopub.status.idle": "2020-09-19T17:52:42.095452Z",
     "shell.execute_reply": "2020-09-19T17:52:42.094365Z"
    },
    "papermill": {
     "duration": 0.287899,
     "end_time": "2020-09-19T17:52:42.095625",
     "exception": false,
     "start_time": "2020-09-19T17:52:41.807726",
     "status": "completed"
    },
    "tags": []
   },
   "outputs": [
    {
     "name": "stdout",
     "output_type": "stream",
     "text": [
      "[[242   2]\n",
      " [  0  46]]\n",
      "Accuracy :  0.993103448275862\n",
      "Precision :  0.9933908045977011\n",
      "Recall :  0.993103448275862\n"
     ]
    }
   ],
   "source": [
    "y_pred = model_3.predict(X_test)\n",
    "\n",
    "print(confusion_matrix(y_pred,Y_test))\n",
    "print(\"Accuracy : \", accuracy_score(y_pred,Y_test))\n",
    "print(\"Precision : \", precision_score(y_pred,Y_test, average = 'weighted'))\n",
    "print(\"Recall : \", recall_score(y_pred,Y_test, average = 'weighted'))"
   ]
  },
  {
   "cell_type": "code",
   "execution_count": 51,
   "metadata": {
    "execution": {
     "iopub.execute_input": "2020-09-19T17:52:42.295968Z",
     "iopub.status.busy": "2020-09-19T17:52:42.269799Z",
     "iopub.status.idle": "2020-09-19T17:52:43.687005Z",
     "shell.execute_reply": "2020-09-19T17:52:43.686176Z"
    },
    "papermill": {
     "duration": 1.512611,
     "end_time": "2020-09-19T17:52:43.687142",
     "exception": false,
     "start_time": "2020-09-19T17:52:42.174531",
     "status": "completed"
    },
    "tags": []
   },
   "outputs": [
    {
     "data": {
      "text/plain": [
       "Pipeline(steps=[('vectorizer', TfidfVectorizer()),\n",
       "                ('classifier', MultinomialNB())])"
      ]
     },
     "execution_count": 51,
     "metadata": {},
     "output_type": "execute_result"
    }
   ],
   "source": [
    "mnb = MultinomialNB()\n",
    "model_5 = Pipeline([('vectorizer',tvec),('classifier',mnb)])\n",
    "model_5.fit(X_train,Y_train)"
   ]
  },
  {
   "cell_type": "code",
   "execution_count": 52,
   "metadata": {
    "execution": {
     "iopub.execute_input": "2020-09-19T17:52:43.862502Z",
     "iopub.status.busy": "2020-09-19T17:52:43.857446Z",
     "iopub.status.idle": "2020-09-19T17:52:43.995273Z",
     "shell.execute_reply": "2020-09-19T17:52:43.994387Z"
    },
    "papermill": {
     "duration": 0.230465,
     "end_time": "2020-09-19T17:52:43.995446",
     "exception": false,
     "start_time": "2020-09-19T17:52:43.764981",
     "status": "completed"
    },
    "tags": []
   },
   "outputs": [
    {
     "name": "stdout",
     "output_type": "stream",
     "text": [
      "[[242  37]\n",
      " [  0  11]]\n",
      "Accuracy :  0.8724137931034482\n",
      "Precision :  0.9707614942528735\n",
      "Recall :  0.8724137931034482\n"
     ]
    }
   ],
   "source": [
    "y_pred = model_5.predict(X_test)\n",
    "\n",
    "print(confusion_matrix(y_pred,Y_test))\n",
    "print(\"Accuracy : \", accuracy_score(y_pred,Y_test))\n",
    "print(\"Precision : \", precision_score(y_pred,Y_test, average = 'weighted'))\n",
    "print(\"Recall : \", recall_score(y_pred,Y_test, average = 'weighted'))"
   ]
  },
  {
   "cell_type": "code",
   "execution_count": 53,
   "metadata": {
    "execution": {
     "iopub.execute_input": "2020-09-19T17:52:44.194134Z",
     "iopub.status.busy": "2020-09-19T17:52:44.178401Z",
     "iopub.status.idle": "2020-09-19T17:53:06.022477Z",
     "shell.execute_reply": "2020-09-19T17:53:06.020952Z"
    },
    "papermill": {
     "duration": 21.94823,
     "end_time": "2020-09-19T17:53:06.022703",
     "exception": false,
     "start_time": "2020-09-19T17:52:44.074473",
     "status": "completed"
    },
    "tags": []
   },
   "outputs": [
    {
     "name": "stdout",
     "output_type": "stream",
     "text": [
      "[[241   5]\n",
      " [  1  43]]\n",
      "Accuracy :  0.9793103448275862\n",
      "Precision :  0.9806901301415407\n",
      "Recall :  0.9793103448275862\n"
     ]
    }
   ],
   "source": [
    "gbc = GradientBoostingClassifier()\n",
    "model_6= Pipeline([('vectorizer',tvec),('classifier',gbc)])\n",
    "model_6.fit(X_train,Y_train)\n",
    "\n",
    "\n",
    "y_pred = model_6.predict(X_test)\n",
    "print(confusion_matrix(y_pred,Y_test))\n",
    "print(\"Accuracy : \", accuracy_score(y_pred,Y_test))\n",
    "print(\"Precision : \", precision_score(y_pred,Y_test, average = 'weighted'))\n",
    "print(\"Recall : \", recall_score(y_pred,Y_test, average = 'weighted'))"
   ]
  },
  {
   "cell_type": "code",
   "execution_count": 54,
   "metadata": {
    "execution": {
     "iopub.execute_input": "2020-09-19T17:53:06.247590Z",
     "iopub.status.busy": "2020-09-19T17:53:06.226649Z",
     "iopub.status.idle": "2020-09-19T17:53:09.957794Z",
     "shell.execute_reply": "2020-09-19T17:53:09.958463Z"
    },
    "papermill": {
     "duration": 3.85457,
     "end_time": "2020-09-19T17:53:09.958654",
     "exception": false,
     "start_time": "2020-09-19T17:53:06.104084",
     "status": "completed"
    },
    "tags": []
   },
   "outputs": [
    {
     "name": "stdout",
     "output_type": "stream",
     "text": [
      "[[242   7]\n",
      " [  0  41]]\n",
      "Accuracy :  0.9758620689655172\n",
      "Precision :  0.9793821839080459\n",
      "Recall :  0.9758620689655172\n"
     ]
    }
   ],
   "source": [
    "from sklearn.ensemble import RandomForestClassifier as RFC\n",
    "rfc = RFC(random_state=42)\n",
    "model_7 = Pipeline([('vectorizer',tvec),('classifier',rfc)])\n",
    "\n",
    "model_7.fit(X_train,Y_train)\n",
    "\n",
    "y_pred = model_7.predict(X_test)\n",
    "print(confusion_matrix(y_pred,Y_test))\n",
    "print(\"Accuracy : \", accuracy_score(y_pred,Y_test))\n",
    "print(\"Precision : \", precision_score(y_pred,Y_test, average = 'weighted'))\n",
    "print(\"Recall : \", recall_score(y_pred,Y_test, average = 'weighted'))"
   ]
  },
  {
   "cell_type": "code",
   "execution_count": 55,
   "metadata": {
    "execution": {
     "iopub.execute_input": "2020-09-19T17:53:10.128386Z",
     "iopub.status.busy": "2020-09-19T17:53:10.127135Z",
     "iopub.status.idle": "2020-09-19T17:53:10.130985Z",
     "shell.execute_reply": "2020-09-19T17:53:10.130199Z"
    },
    "papermill": {
     "duration": 0.091278,
     "end_time": "2020-09-19T17:53:10.131121",
     "exception": false,
     "start_time": "2020-09-19T17:53:10.039843",
     "status": "completed"
    },
    "tags": []
   },
   "outputs": [],
   "source": [
    "#Using RandomForestRegressor\n",
    "from sklearn.ensemble import RandomForestClassifier\n",
    "rfc = RandomForestClassifier(n_estimators=1000,random_state=2520)"
   ]
  },
  {
   "cell_type": "code",
   "execution_count": 56,
   "metadata": {
    "execution": {
     "iopub.execute_input": "2020-09-19T17:53:10.331187Z",
     "iopub.status.busy": "2020-09-19T17:53:10.314760Z",
     "iopub.status.idle": "2020-09-19T17:53:33.364162Z",
     "shell.execute_reply": "2020-09-19T17:53:33.365085Z"
    },
    "papermill": {
     "duration": 23.152947,
     "end_time": "2020-09-19T17:53:33.365371",
     "exception": false,
     "start_time": "2020-09-19T17:53:10.212424",
     "status": "completed"
    },
    "tags": []
   },
   "outputs": [
    {
     "name": "stdout",
     "output_type": "stream",
     "text": [
      "[[242   6]\n",
      " [  0  42]]\n",
      "Accuracy :  0.9793103448275862\n",
      "Precision :  0.9818965517241379\n",
      "Recall :  0.9793103448275862\n"
     ]
    }
   ],
   "source": [
    "\n",
    "model_8 = Pipeline([('vectorizer',tvec),('classifier',rfc)])\n",
    "\n",
    "model_8.fit(X_train,Y_train)\n",
    "\n",
    "y_pred = model_8.predict(X_test)\n",
    "print(confusion_matrix(y_pred,Y_test))\n",
    "print(\"Accuracy : \", accuracy_score(y_pred,Y_test))\n",
    "print(\"Precision : \", precision_score(y_pred,Y_test, average = 'weighted'))\n",
    "print(\"Recall : \", recall_score(y_pred,Y_test, average = 'weighted'))"
   ]
  },
  {
   "cell_type": "code",
   "execution_count": 57,
   "metadata": {
    "execution": {
     "iopub.execute_input": "2020-09-19T17:53:33.533970Z",
     "iopub.status.busy": "2020-09-19T17:53:33.533114Z",
     "iopub.status.idle": "2020-09-19T17:53:34.420515Z",
     "shell.execute_reply": "2020-09-19T17:53:34.419667Z"
    },
    "papermill": {
     "duration": 0.974738,
     "end_time": "2020-09-19T17:53:34.420663",
     "exception": false,
     "start_time": "2020-09-19T17:53:33.445925",
     "status": "completed"
    },
    "tags": []
   },
   "outputs": [],
   "source": [
    "from xgboost import XGBClassifier"
   ]
  },
  {
   "cell_type": "code",
   "execution_count": 58,
   "metadata": {
    "execution": {
     "iopub.execute_input": "2020-09-19T17:53:34.593132Z",
     "iopub.status.busy": "2020-09-19T17:53:34.592314Z",
     "iopub.status.idle": "2020-09-19T17:53:34.596004Z",
     "shell.execute_reply": "2020-09-19T17:53:34.595400Z"
    },
    "papermill": {
     "duration": 0.093216,
     "end_time": "2020-09-19T17:53:34.596132",
     "exception": false,
     "start_time": "2020-09-19T17:53:34.502916",
     "status": "completed"
    },
    "tags": []
   },
   "outputs": [],
   "source": [
    "xgb = XGBClassifier(base_score=0.5, booster='dart', colsample_bylevel=1,\n",
    "              colsample_bynode=1, colsample_bytree=1, gamma=0.7795918367346939,\n",
    "              learning_rate=0.325, max_delta_step=0, max_depth=22,\n",
    "              min_child_weight=1, missing=None, n_estimators=833, n_jobs=1,\n",
    "              nthread=None, objective='binary:logistic', random_state=0,\n",
    "              reg_alpha=0.25, reg_lambda=2, scale_pos_weight=1, seed=None,\n",
    "              silent=None, subsample=1, verbosity=1)"
   ]
  },
  {
   "cell_type": "code",
   "execution_count": 59,
   "metadata": {
    "execution": {
     "iopub.execute_input": "2020-09-19T17:53:34.767301Z",
     "iopub.status.busy": "2020-09-19T17:53:34.766594Z",
     "iopub.status.idle": "2020-09-19T17:56:22.666564Z",
     "shell.execute_reply": "2020-09-19T17:56:22.667585Z"
    },
    "papermill": {
     "duration": 167.990852,
     "end_time": "2020-09-19T17:56:22.667838",
     "exception": false,
     "start_time": "2020-09-19T17:53:34.676986",
     "status": "completed"
    },
    "tags": []
   },
   "outputs": [
    {
     "name": "stdout",
     "output_type": "stream",
     "text": [
      "[[241   2]\n",
      " [  1  46]]\n",
      "Accuracy :  0.9896551724137931\n",
      "Precision :  0.9897846015009024\n",
      "Recall :  0.9896551724137931\n"
     ]
    }
   ],
   "source": [
    "\n",
    "model_9 = Pipeline([('vectorizer',tvec),('classifier',xgb)])\n",
    "\n",
    "model_9.fit(X_train,Y_train)\n",
    "\n",
    "y_pred = model_9.predict(X_test)\n",
    "print(confusion_matrix(y_pred,Y_test))\n",
    "print(\"Accuracy : \", accuracy_score(y_pred,Y_test))\n",
    "print(\"Precision : \", precision_score(y_pred,Y_test, average = 'weighted'))\n",
    "print(\"Recall : \", recall_score(y_pred,Y_test, average = 'weighted'))"
   ]
  },
  {
   "cell_type": "markdown",
   "metadata": {
    "papermill": {
     "duration": 0.083252,
     "end_time": "2020-09-19T17:56:22.853340",
     "exception": false,
     "start_time": "2020-09-19T17:56:22.770088",
     "status": "completed"
    },
    "tags": []
   },
   "source": [
    "Testing Model"
   ]
  },
  {
   "cell_type": "code",
   "execution_count": 60,
   "metadata": {
    "execution": {
     "iopub.execute_input": "2020-09-19T17:56:23.024144Z",
     "iopub.status.busy": "2020-09-19T17:56:23.023387Z",
     "iopub.status.idle": "2020-09-19T17:56:23.056080Z",
     "shell.execute_reply": "2020-09-19T17:56:23.055306Z"
    },
    "papermill": {
     "duration": 0.121196,
     "end_time": "2020-09-19T17:56:23.056216",
     "exception": false,
     "start_time": "2020-09-19T17:56:22.935020",
     "status": "completed"
    },
    "tags": []
   },
   "outputs": [
    {
     "data": {
      "text/plain": [
       "array([1])"
      ]
     },
     "execution_count": 60,
     "metadata": {},
     "output_type": "execute_result"
    }
   ],
   "source": [
    "result=model_9.predict(['your microsoft account has been compromised ,you must update before or else your account going to close click to update'])\n",
    "result"
   ]
  },
  {
   "cell_type": "code",
   "execution_count": 61,
   "metadata": {
    "execution": {
     "iopub.execute_input": "2020-09-19T17:56:23.227959Z",
     "iopub.status.busy": "2020-09-19T17:56:23.227138Z",
     "iopub.status.idle": "2020-09-19T17:56:23.259314Z",
     "shell.execute_reply": "2020-09-19T17:56:23.259891Z"
    },
    "papermill": {
     "duration": 0.121586,
     "end_time": "2020-09-19T17:56:23.260072",
     "exception": false,
     "start_time": "2020-09-19T17:56:23.138486",
     "status": "completed"
    },
    "tags": []
   },
   "outputs": [
    {
     "data": {
      "text/plain": [
       "array([1])"
      ]
     },
     "execution_count": 61,
     "metadata": {},
     "output_type": "execute_result"
    }
   ],
   "source": [
    "result=model_9.predict(['Today we want to inform you that the application period for 15.000 free Udacity Scholarships in Data Science is now open! Please apply by November 16th, 2020 via https://www.udacity.com/bertelsmann-tech-scholarships.'])\n",
    "result"
   ]
  },
  {
   "cell_type": "markdown",
   "metadata": {
    "papermill": {
     "duration": 0.084294,
     "end_time": "2020-09-19T17:56:23.428590",
     "exception": false,
     "start_time": "2020-09-19T17:56:23.344296",
     "status": "completed"
    },
    "tags": []
   },
   "source": [
    "1 is normal message."
   ]
  },
  {
   "cell_type": "code",
   "execution_count": 62,
   "metadata": {
    "execution": {
     "iopub.execute_input": "2020-09-19T17:56:23.602951Z",
     "iopub.status.busy": "2020-09-19T17:56:23.602151Z",
     "iopub.status.idle": "2020-09-19T17:56:23.606420Z",
     "shell.execute_reply": "2020-09-19T17:56:23.605758Z"
    },
    "papermill": {
     "duration": 0.093297,
     "end_time": "2020-09-19T17:56:23.606563",
     "exception": false,
     "start_time": "2020-09-19T17:56:23.513266",
     "status": "completed"
    },
    "tags": []
   },
   "outputs": [],
   "source": [
    "#Here 0 is spam and 1 is normal message."
   ]
  },
  {
   "cell_type": "code",
   "execution_count": 63,
   "metadata": {
    "execution": {
     "iopub.execute_input": "2020-09-19T17:56:23.780995Z",
     "iopub.status.busy": "2020-09-19T17:56:23.780103Z",
     "iopub.status.idle": "2020-09-19T17:56:23.801280Z",
     "shell.execute_reply": "2020-09-19T17:56:23.800631Z"
    },
    "papermill": {
     "duration": 0.11155,
     "end_time": "2020-09-19T17:56:23.801445",
     "exception": false,
     "start_time": "2020-09-19T17:56:23.689895",
     "status": "completed"
    },
    "tags": []
   },
   "outputs": [
    {
     "data": {
      "text/plain": [
       "array([1])"
      ]
     },
     "execution_count": 63,
     "metadata": {},
     "output_type": "execute_result"
    }
   ],
   "source": [
    "result=model_3.predict(['your microsoft account has been compromised ,you must update before or else your account going to close click to update'])\n",
    "result"
   ]
  },
  {
   "cell_type": "code",
   "execution_count": 64,
   "metadata": {
    "execution": {
     "iopub.execute_input": "2020-09-19T17:56:23.977763Z",
     "iopub.status.busy": "2020-09-19T17:56:23.976971Z",
     "iopub.status.idle": "2020-09-19T17:56:23.998618Z",
     "shell.execute_reply": "2020-09-19T17:56:23.997879Z"
    },
    "papermill": {
     "duration": 0.111832,
     "end_time": "2020-09-19T17:56:23.998775",
     "exception": false,
     "start_time": "2020-09-19T17:56:23.886943",
     "status": "completed"
    },
    "tags": []
   },
   "outputs": [
    {
     "data": {
      "text/plain": [
       "array([1])"
      ]
     },
     "execution_count": 64,
     "metadata": {},
     "output_type": "execute_result"
    }
   ],
   "source": [
    "result=model_3.predict(['Today we want to inform you that the application period for 15.000 free Udacity Scholarships in Data Science is now open! Please apply by November 16th, 2020 via https://www.udacity.com/bertelsmann-tech-scholarships.'])\n",
    "result"
   ]
  },
  {
   "cell_type": "code",
   "execution_count": null,
   "metadata": {
    "papermill": {
     "duration": 0.084713,
     "end_time": "2020-09-19T17:56:24.169790",
     "exception": false,
     "start_time": "2020-09-19T17:56:24.085077",
     "status": "completed"
    },
    "tags": []
   },
   "outputs": [],
   "source": []
  }
 ],
 "metadata": {
  "kernelspec": {
   "display_name": "Python 3",
   "language": "python",
   "name": "python3"
  },
  "language_info": {
   "codemirror_mode": {
    "name": "ipython",
    "version": 3
   },
   "file_extension": ".py",
   "mimetype": "text/x-python",
   "name": "python",
   "nbconvert_exporter": "python",
   "pygments_lexer": "ipython3",
   "version": "3.7.6"
  },
  "papermill": {
   "duration": 259.181515,
   "end_time": "2020-09-19T17:56:24.365110",
   "environment_variables": {},
   "exception": null,
   "input_path": "__notebook__.ipynb",
   "output_path": "__notebook__.ipynb",
   "parameters": {},
   "start_time": "2020-09-19T17:52:05.183595",
   "version": "2.1.0"
  }
 },
 "nbformat": 4,
 "nbformat_minor": 4
}
