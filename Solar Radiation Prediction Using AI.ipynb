{
 "cells": [
  {
   "cell_type": "markdown",
   "metadata": {
    "papermill": {
     "duration": 0.032435,
     "end_time": "2020-10-19T19:12:54.880908",
     "exception": false,
     "start_time": "2020-10-19T19:12:54.848473",
     "status": "completed"
    },
    "tags": []
   },
   "source": [
    "# Environment Setup"
   ]
  },
  {
   "cell_type": "code",
   "execution_count": 1,
   "metadata": {
    "execution": {
     "iopub.execute_input": "2020-10-19T19:12:54.948464Z",
     "iopub.status.busy": "2020-10-19T19:12:54.947555Z",
     "iopub.status.idle": "2020-10-19T19:13:02.725970Z",
     "shell.execute_reply": "2020-10-19T19:13:02.725217Z"
    },
    "papermill": {
     "duration": 7.815218,
     "end_time": "2020-10-19T19:13:02.726116",
     "exception": false,
     "start_time": "2020-10-19T19:12:54.910898",
     "status": "completed"
    },
    "tags": []
   },
   "outputs": [],
   "source": [
    "import seaborn as sns\n",
    "import matplotlib.pyplot as plt\n",
    "from sklearn.preprocessing import StandardScaler, MinMaxScaler, Normalizer\n",
    "from sklearn.model_selection import train_test_split\n",
    "from sklearn.model_selection import cross_val_score\n",
    "from keras.layers import Dense, Dropout\n",
    "from keras.optimizers import SGD, Adam\n",
    "from keras.models import Sequential\n",
    "from collections import Counter\n",
    "from scipy import stats"
   ]
  },
  {
   "cell_type": "code",
   "execution_count": 2,
   "metadata": {
    "_cell_guid": "b1076dfc-b9ad-4769-8c92-a6c4dae69d19",
    "_uuid": "8f2839f25d086af736a60e9eeb907d3b93b6e0e5",
    "execution": {
     "iopub.execute_input": "2020-10-19T19:13:02.794512Z",
     "iopub.status.busy": "2020-10-19T19:13:02.793600Z",
     "iopub.status.idle": "2020-10-19T19:13:02.811791Z",
     "shell.execute_reply": "2020-10-19T19:13:02.811039Z"
    },
    "papermill": {
     "duration": 0.055758,
     "end_time": "2020-10-19T19:13:02.811946",
     "exception": false,
     "start_time": "2020-10-19T19:13:02.756188",
     "status": "completed"
    },
    "tags": []
   },
   "outputs": [
    {
     "name": "stdout",
     "output_type": "stream",
     "text": [
      "/kaggle/input/SolarEnergy/SolarPrediction.csv\n"
     ]
    }
   ],
   "source": [
    "# This Python 3 environment comes with many helpful analytics libraries installed\n",
    "# It is defined by the kaggle/python Docker image: https://github.com/kaggle/docker-python\n",
    "# For example, here's several helpful packages to load\n",
    "\n",
    "import numpy as np # linear algebra\n",
    "import pandas as pd # data processing, CSV file I/O (e.g. pd.read_csv)\n",
    "\n",
    "# Input data files are available in the read-only \"../input/\" directory\n",
    "# For example, running this (by clicking run or pressing Shift+Enter) will list all files under the input directory\n",
    "\n",
    "import os\n",
    "for dirname, _, filenames in os.walk('/kaggle/input'):\n",
    "    for filename in filenames:\n",
    "        print(os.path.join(dirname, filename))\n",
    "\n",
    "# You can write up to 5GB to the current directory (/kaggle/working/) that gets preserved as output when you create a version using \"Save & Run All\" \n",
    "# You can also write temporary files to /kaggle/temp/, but they won't be saved outside of the current session"
   ]
  },
  {
   "cell_type": "markdown",
   "metadata": {
    "papermill": {
     "duration": 0.029894,
     "end_time": "2020-10-19T19:13:02.873158",
     "exception": false,
     "start_time": "2020-10-19T19:13:02.843264",
     "status": "completed"
    },
    "tags": []
   },
   "source": [
    "# Data read, Data Pre-processing, feature Engineering, Data Visualization"
   ]
  },
  {
   "cell_type": "code",
   "execution_count": 3,
   "metadata": {
    "_cell_guid": "79c7e3d0-c299-4dcb-8224-4455121ee9b0",
    "_uuid": "d629ff2d2480ee46fbb7e2d37f6b5fab8052498a",
    "execution": {
     "iopub.execute_input": "2020-10-19T19:13:02.940759Z",
     "iopub.status.busy": "2020-10-19T19:13:02.940027Z",
     "iopub.status.idle": "2020-10-19T19:13:03.045631Z",
     "shell.execute_reply": "2020-10-19T19:13:03.046227Z"
    },
    "papermill": {
     "duration": 0.142626,
     "end_time": "2020-10-19T19:13:03.046409",
     "exception": false,
     "start_time": "2020-10-19T19:13:02.903783",
     "status": "completed"
    },
    "tags": []
   },
   "outputs": [],
   "source": [
    "data = pd.read_csv('../input/SolarEnergy/SolarPrediction.csv')"
   ]
  },
  {
   "cell_type": "code",
   "execution_count": 4,
   "metadata": {
    "execution": {
     "iopub.execute_input": "2020-10-19T19:13:03.130029Z",
     "iopub.status.busy": "2020-10-19T19:13:03.129223Z",
     "iopub.status.idle": "2020-10-19T19:13:03.142722Z",
     "shell.execute_reply": "2020-10-19T19:13:03.141866Z"
    },
    "papermill": {
     "duration": 0.065612,
     "end_time": "2020-10-19T19:13:03.142910",
     "exception": false,
     "start_time": "2020-10-19T19:13:03.077298",
     "status": "completed"
    },
    "tags": []
   },
   "outputs": [
    {
     "data": {
      "text/html": [
       "<div>\n",
       "<style scoped>\n",
       "    .dataframe tbody tr th:only-of-type {\n",
       "        vertical-align: middle;\n",
       "    }\n",
       "\n",
       "    .dataframe tbody tr th {\n",
       "        vertical-align: top;\n",
       "    }\n",
       "\n",
       "    .dataframe thead th {\n",
       "        text-align: right;\n",
       "    }\n",
       "</style>\n",
       "<table border=\"1\" class=\"dataframe\">\n",
       "  <thead>\n",
       "    <tr style=\"text-align: right;\">\n",
       "      <th></th>\n",
       "      <th>UNIXTime</th>\n",
       "      <th>Data</th>\n",
       "      <th>Time</th>\n",
       "      <th>Radiation</th>\n",
       "      <th>Temperature</th>\n",
       "      <th>Pressure</th>\n",
       "      <th>Humidity</th>\n",
       "      <th>WindDirection(Degrees)</th>\n",
       "      <th>Speed</th>\n",
       "      <th>TimeSunRise</th>\n",
       "      <th>TimeSunSet</th>\n",
       "    </tr>\n",
       "  </thead>\n",
       "  <tbody>\n",
       "    <tr>\n",
       "      <th>0</th>\n",
       "      <td>1475229326</td>\n",
       "      <td>9/29/2016 12:00:00 AM</td>\n",
       "      <td>23:55:26</td>\n",
       "      <td>1.21</td>\n",
       "      <td>48</td>\n",
       "      <td>30.46</td>\n",
       "      <td>59</td>\n",
       "      <td>177.39</td>\n",
       "      <td>5.62</td>\n",
       "      <td>06:13:00</td>\n",
       "      <td>18:13:00</td>\n",
       "    </tr>\n",
       "    <tr>\n",
       "      <th>1</th>\n",
       "      <td>1475229023</td>\n",
       "      <td>9/29/2016 12:00:00 AM</td>\n",
       "      <td>23:50:23</td>\n",
       "      <td>1.21</td>\n",
       "      <td>48</td>\n",
       "      <td>30.46</td>\n",
       "      <td>58</td>\n",
       "      <td>176.78</td>\n",
       "      <td>3.37</td>\n",
       "      <td>06:13:00</td>\n",
       "      <td>18:13:00</td>\n",
       "    </tr>\n",
       "    <tr>\n",
       "      <th>2</th>\n",
       "      <td>1475228726</td>\n",
       "      <td>9/29/2016 12:00:00 AM</td>\n",
       "      <td>23:45:26</td>\n",
       "      <td>1.23</td>\n",
       "      <td>48</td>\n",
       "      <td>30.46</td>\n",
       "      <td>57</td>\n",
       "      <td>158.75</td>\n",
       "      <td>3.37</td>\n",
       "      <td>06:13:00</td>\n",
       "      <td>18:13:00</td>\n",
       "    </tr>\n",
       "    <tr>\n",
       "      <th>3</th>\n",
       "      <td>1475228421</td>\n",
       "      <td>9/29/2016 12:00:00 AM</td>\n",
       "      <td>23:40:21</td>\n",
       "      <td>1.21</td>\n",
       "      <td>48</td>\n",
       "      <td>30.46</td>\n",
       "      <td>60</td>\n",
       "      <td>137.71</td>\n",
       "      <td>3.37</td>\n",
       "      <td>06:13:00</td>\n",
       "      <td>18:13:00</td>\n",
       "    </tr>\n",
       "    <tr>\n",
       "      <th>4</th>\n",
       "      <td>1475228124</td>\n",
       "      <td>9/29/2016 12:00:00 AM</td>\n",
       "      <td>23:35:24</td>\n",
       "      <td>1.17</td>\n",
       "      <td>48</td>\n",
       "      <td>30.46</td>\n",
       "      <td>62</td>\n",
       "      <td>104.95</td>\n",
       "      <td>5.62</td>\n",
       "      <td>06:13:00</td>\n",
       "      <td>18:13:00</td>\n",
       "    </tr>\n",
       "  </tbody>\n",
       "</table>\n",
       "</div>"
      ],
      "text/plain": [
       "     UNIXTime                   Data      Time  Radiation  Temperature  \\\n",
       "0  1475229326  9/29/2016 12:00:00 AM  23:55:26       1.21           48   \n",
       "1  1475229023  9/29/2016 12:00:00 AM  23:50:23       1.21           48   \n",
       "2  1475228726  9/29/2016 12:00:00 AM  23:45:26       1.23           48   \n",
       "3  1475228421  9/29/2016 12:00:00 AM  23:40:21       1.21           48   \n",
       "4  1475228124  9/29/2016 12:00:00 AM  23:35:24       1.17           48   \n",
       "\n",
       "   Pressure  Humidity  WindDirection(Degrees)  Speed TimeSunRise TimeSunSet  \n",
       "0     30.46        59                  177.39   5.62    06:13:00   18:13:00  \n",
       "1     30.46        58                  176.78   3.37    06:13:00   18:13:00  \n",
       "2     30.46        57                  158.75   3.37    06:13:00   18:13:00  \n",
       "3     30.46        60                  137.71   3.37    06:13:00   18:13:00  \n",
       "4     30.46        62                  104.95   5.62    06:13:00   18:13:00  "
      ]
     },
     "execution_count": 4,
     "metadata": {},
     "output_type": "execute_result"
    }
   ],
   "source": [
    "data.head()"
   ]
  },
  {
   "cell_type": "code",
   "execution_count": 5,
   "metadata": {
    "execution": {
     "iopub.execute_input": "2020-10-19T19:13:03.255288Z",
     "iopub.status.busy": "2020-10-19T19:13:03.254490Z",
     "iopub.status.idle": "2020-10-19T19:13:03.258761Z",
     "shell.execute_reply": "2020-10-19T19:13:03.258013Z"
    },
    "papermill": {
     "duration": 0.067676,
     "end_time": "2020-10-19T19:13:03.258908",
     "exception": false,
     "start_time": "2020-10-19T19:13:03.191232",
     "status": "completed"
    },
    "tags": []
   },
   "outputs": [],
   "source": [
    "X = data.drop(['UNIXTime', 'Radiation'], axis=1)\n",
    "y = data['Radiation']"
   ]
  },
  {
   "cell_type": "markdown",
   "metadata": {
    "papermill": {
     "duration": 0.031194,
     "end_time": "2020-10-19T19:13:03.322674",
     "exception": false,
     "start_time": "2020-10-19T19:13:03.291480",
     "status": "completed"
    },
    "tags": []
   },
   "source": [
    "# Time data engineering\n",
    "\n",
    "1. We begin our feature engineering by extracting the time and date out of our Data, TimeSunRise and TimeSunSet features.\n",
    "1. \n",
    "1. Firstly, the minute of TimeSunRise feature is pulled out and then the minute and hour of TimeSunSet is found."
   ]
  },
  {
   "cell_type": "code",
   "execution_count": 6,
   "metadata": {
    "execution": {
     "iopub.execute_input": "2020-10-19T19:13:03.402216Z",
     "iopub.status.busy": "2020-10-19T19:13:03.401139Z",
     "iopub.status.idle": "2020-10-19T19:13:03.472367Z",
     "shell.execute_reply": "2020-10-19T19:13:03.471531Z"
    },
    "papermill": {
     "duration": 0.114245,
     "end_time": "2020-10-19T19:13:03.472495",
     "exception": false,
     "start_time": "2020-10-19T19:13:03.358250",
     "status": "completed"
    },
    "tags": []
   },
   "outputs": [],
   "source": [
    "X['TSR_Minute'] = pd.to_datetime(X['TimeSunRise']).dt.minute\n",
    "X['TSS_Minute'] = pd.to_datetime(X['TimeSunSet']).dt.minute\n",
    "X['TSS_Hour'] = np.where(pd.to_datetime(X['TimeSunSet']).dt.hour==18, 1, 0)"
   ]
  },
  {
   "cell_type": "markdown",
   "metadata": {
    "papermill": {
     "duration": 0.031799,
     "end_time": "2020-10-19T19:13:03.536569",
     "exception": false,
     "start_time": "2020-10-19T19:13:03.504770",
     "status": "completed"
    },
    "tags": []
   },
   "source": [
    "Then, the month and day are taken out of Data and the hour, minute and second out of Time."
   ]
  },
  {
   "cell_type": "code",
   "execution_count": 7,
   "metadata": {
    "execution": {
     "iopub.execute_input": "2020-10-19T19:13:03.610430Z",
     "iopub.status.busy": "2020-10-19T19:13:03.609608Z",
     "iopub.status.idle": "2020-10-19T19:13:27.937168Z",
     "shell.execute_reply": "2020-10-19T19:13:27.936511Z"
    },
    "papermill": {
     "duration": 24.368574,
     "end_time": "2020-10-19T19:13:27.937353",
     "exception": false,
     "start_time": "2020-10-19T19:13:03.568779",
     "status": "completed"
    },
    "tags": []
   },
   "outputs": [],
   "source": [
    "time = np.array([])\n",
    "\n",
    "for i in X['Data']:\n",
    "    splt = i.split()\n",
    "    time = np.append(time, splt[0])\n",
    "    \n",
    "X['Month'] = pd.to_datetime(X['Data']).dt.month\n",
    "X['Day'] = pd.to_datetime(X['Data']).dt.day"
   ]
  },
  {
   "cell_type": "code",
   "execution_count": 8,
   "metadata": {
    "execution": {
     "iopub.execute_input": "2020-10-19T19:13:28.047537Z",
     "iopub.status.busy": "2020-10-19T19:13:28.041562Z",
     "iopub.status.idle": "2020-10-19T19:13:34.658557Z",
     "shell.execute_reply": "2020-10-19T19:13:34.657827Z"
    },
    "papermill": {
     "duration": 6.688754,
     "end_time": "2020-10-19T19:13:34.658703",
     "exception": false,
     "start_time": "2020-10-19T19:13:27.969949",
     "status": "completed"
    },
    "tags": []
   },
   "outputs": [],
   "source": [
    "X['Hour'] = pd.to_datetime(X['Time']).dt.hour\n",
    "X['Minute'] = pd.to_datetime(X['Time']).dt.minute\n",
    "X['Second'] = pd.to_datetime(X['Time']).dt.second"
   ]
  },
  {
   "cell_type": "markdown",
   "metadata": {
    "papermill": {
     "duration": 0.033564,
     "end_time": "2020-10-19T19:13:34.724544",
     "exception": false,
     "start_time": "2020-10-19T19:13:34.690980",
     "status": "completed"
    },
    "tags": []
   },
   "source": [
    "Here is a graph showing how many days were recorded throughout our dataset."
   ]
  },
  {
   "cell_type": "code",
   "execution_count": 9,
   "metadata": {
    "execution": {
     "iopub.execute_input": "2020-10-19T19:13:34.820332Z",
     "iopub.status.busy": "2020-10-19T19:13:34.819504Z",
     "iopub.status.idle": "2020-10-19T19:13:35.301214Z",
     "shell.execute_reply": "2020-10-19T19:13:35.300506Z"
    },
    "papermill": {
     "duration": 0.544034,
     "end_time": "2020-10-19T19:13:35.301353",
     "exception": false,
     "start_time": "2020-10-19T19:13:34.757319",
     "status": "completed"
    },
    "tags": []
   },
   "outputs": [
    {
     "data": {
      "image/png": "[encoded data removed]",
      "text/plain": [
       "<Figure size 1440x504 with 1 Axes>"
      ]
     },
     "metadata": {
      "needs_background": "light"
     },
     "output_type": "display_data"
    }
   ],
   "source": [
    "count = Counter(time)\n",
    "plt.figure(figsize=(20, 7))\n",
    "plt.bar(count.keys(), count.values(), color='purple')\n",
    "plt.xticks([])\n",
    "plt.xlabel('Days in the year')\n",
    "plt.ylabel('Number of days recorded')\n",
    "plt.title('The amount of days recorded')\n",
    "plt.show()"
   ]
  },
  {
   "cell_type": "markdown",
   "metadata": {
    "papermill": {
     "duration": 0.033487,
     "end_time": "2020-10-19T19:13:35.368733",
     "exception": false,
     "start_time": "2020-10-19T19:13:35.335246",
     "status": "completed"
    },
    "tags": []
   },
   "source": [
    "# Feature transformation"
   ]
  },
  {
   "cell_type": "markdown",
   "metadata": {
    "papermill": {
     "duration": 0.033183,
     "end_time": "2020-10-19T19:13:35.435548",
     "exception": false,
     "start_time": "2020-10-19T19:13:35.402365",
     "status": "completed"
    },
    "tags": []
   },
   "source": [
    "The next step is to use transformations on our dataset.\n",
    "\n",
    "This is a visualisation of the distribution of the different features compared to them being transformed with Log, BoxCox, Standard Scaler and MinMax Scaler."
   ]
  },
  {
   "cell_type": "code",
   "execution_count": 10,
   "metadata": {
    "execution": {
     "iopub.execute_input": "2020-10-19T19:13:35.525765Z",
     "iopub.status.busy": "2020-10-19T19:13:35.524632Z",
     "iopub.status.idle": "2020-10-19T19:13:42.587952Z",
     "shell.execute_reply": "2020-10-19T19:13:42.587185Z"
    },
    "papermill": {
     "duration": 7.118842,
     "end_time": "2020-10-19T19:13:42.588098",
     "exception": false,
     "start_time": "2020-10-19T19:13:35.469256",
     "status": "completed"
    },
    "tags": []
   },
   "outputs": [
    {
     "data": {
      "image/png": "[encoded data removed]",
      "text/plain": [
       "<Figure size 720x360 with 5 Axes>"
      ]
     },
     "metadata": {
      "needs_background": "light"
     },
     "output_type": "display_data"
    },
    {
     "data": {
      "image/png": "[encoded data removed]",
      "text/plain": [
       "<Figure size 720x360 with 5 Axes>"
      ]
     },
     "metadata": {
      "needs_background": "light"
     },
     "output_type": "display_data"
    },
    {
     "data": {
      "image/png": "[encoded data removed]",
      "text/plain": [
       "<Figure size 720x360 with 5 Axes>"
      ]
     },
     "metadata": {
      "needs_background": "light"
     },
     "output_type": "display_data"
    },
    {
     "data": {
      "image/png": "[encoded data removed]",
      "text/plain": [
       "<Figure size 720x360 with 5 Axes>"
      ]
     },
     "metadata": {
      "needs_background": "light"
     },
     "output_type": "display_data"
    },
    {
     "data": {
      "image/png": "[encoded data removed]",
      "text/plain": [
       "<Figure size 720x360 with 5 Axes>"
      ]
     },
     "metadata": {
      "needs_background": "light"
     },
     "output_type": "display_data"
    }
   ],
   "source": [
    "norm = {'Temperature' : (X['Temperature']+1).transform(np.log), \n",
    "        'Humidity' : stats.boxcox(X['Humidity']+1)[0], 'Speed' : (X['Speed']+1).transform(np.log), \n",
    "        'WindDirection(Degrees)' : MinMaxScaler().fit_transform(np.array(X['WindDirection(Degrees)']).reshape(-1, 1)),\n",
    "        'TSS_Minute' : stats.boxcox(X['TSS_Minute']+1)[0]}\n",
    "\n",
    "for i in norm:\n",
    "    b=50\n",
    "    fig, (ax1, ax2, ax3, ax4, ax5) = plt.subplots(5, 1, figsize=(10, 5))\n",
    "    pd.DataFrame(X[i]).hist(ax=ax1, bins=b)\n",
    "    pd.DataFrame((X[i]+1).transform(np.log)).hist(ax=ax2, bins=b)\n",
    "    pd.DataFrame(stats.boxcox(X[i]+1)[0]).hist(ax=ax3, bins=b)\n",
    "    \n",
    "    pd.DataFrame(StandardScaler().fit_transform(np.array(X[i]).reshape(-1, 1))).hist(ax=ax4, bins=b)\n",
    "    pd.DataFrame(MinMaxScaler().fit_transform(np.array(X[i]).reshape(-1, 1))).hist(ax=ax5, bins=b)\n",
    "    \n",
    "    ax1.set_ylabel('Normal')\n",
    "    ax2.set_ylabel('Log')\n",
    "    ax3.set_ylabel('Box Cox')\n",
    "    ax4.set_ylabel('Standard')\n",
    "    ax5.set_ylabel('MinMax')\n",
    "    \n",
    "    X[i] = norm[i]"
   ]
  },
  {
   "cell_type": "markdown",
   "metadata": {
    "papermill": {
     "duration": 0.038388,
     "end_time": "2020-10-19T19:13:42.665199",
     "exception": false,
     "start_time": "2020-10-19T19:13:42.626811",
     "status": "completed"
    },
    "tags": []
   },
   "source": [
    "# Drop Unnecessries data"
   ]
  },
  {
   "cell_type": "code",
   "execution_count": 11,
   "metadata": {
    "execution": {
     "iopub.execute_input": "2020-10-19T19:13:42.749814Z",
     "iopub.status.busy": "2020-10-19T19:13:42.748684Z",
     "iopub.status.idle": "2020-10-19T19:13:42.759602Z",
     "shell.execute_reply": "2020-10-19T19:13:42.758820Z"
    },
    "papermill": {
     "duration": 0.056154,
     "end_time": "2020-10-19T19:13:42.759728",
     "exception": false,
     "start_time": "2020-10-19T19:13:42.703574",
     "status": "completed"
    },
    "tags": []
   },
   "outputs": [],
   "source": [
    "X = X.drop(['Data', 'Time', 'TimeSunRise', 'TimeSunSet'], axis=1)"
   ]
  },
  {
   "cell_type": "code",
   "execution_count": 12,
   "metadata": {
    "execution": {
     "iopub.execute_input": "2020-10-19T19:13:42.856417Z",
     "iopub.status.busy": "2020-10-19T19:13:42.855299Z",
     "iopub.status.idle": "2020-10-19T19:13:42.860333Z",
     "shell.execute_reply": "2020-10-19T19:13:42.859612Z"
    },
    "papermill": {
     "duration": 0.06162,
     "end_time": "2020-10-19T19:13:42.860460",
     "exception": false,
     "start_time": "2020-10-19T19:13:42.798840",
     "status": "completed"
    },
    "tags": []
   },
   "outputs": [
    {
     "data": {
      "text/html": [
       "<div>\n",
       "<style scoped>\n",
       "    .dataframe tbody tr th:only-of-type {\n",
       "        vertical-align: middle;\n",
       "    }\n",
       "\n",
       "    .dataframe tbody tr th {\n",
       "        vertical-align: top;\n",
       "    }\n",
       "\n",
       "    .dataframe thead th {\n",
       "        text-align: right;\n",
       "    }\n",
       "</style>\n",
       "<table border=\"1\" class=\"dataframe\">\n",
       "  <thead>\n",
       "    <tr style=\"text-align: right;\">\n",
       "      <th></th>\n",
       "      <th>Temperature</th>\n",
       "      <th>Pressure</th>\n",
       "      <th>Humidity</th>\n",
       "      <th>WindDirection(Degrees)</th>\n",
       "      <th>Speed</th>\n",
       "      <th>TSR_Minute</th>\n",
       "      <th>TSS_Minute</th>\n",
       "      <th>TSS_Hour</th>\n",
       "      <th>Month</th>\n",
       "      <th>Day</th>\n",
       "      <th>Hour</th>\n",
       "      <th>Minute</th>\n",
       "      <th>Second</th>\n",
       "    </tr>\n",
       "  </thead>\n",
       "  <tbody>\n",
       "    <tr>\n",
       "      <th>0</th>\n",
       "      <td>3.89182</td>\n",
       "      <td>30.46</td>\n",
       "      <td>1139.358665</td>\n",
       "      <td>0.492692</td>\n",
       "      <td>1.890095</td>\n",
       "      <td>13</td>\n",
       "      <td>32.81851</td>\n",
       "      <td>1</td>\n",
       "      <td>9</td>\n",
       "      <td>29</td>\n",
       "      <td>23</td>\n",
       "      <td>55</td>\n",
       "      <td>26</td>\n",
       "    </tr>\n",
       "    <tr>\n",
       "      <th>1</th>\n",
       "      <td>3.89182</td>\n",
       "      <td>30.46</td>\n",
       "      <td>1104.046980</td>\n",
       "      <td>0.490996</td>\n",
       "      <td>1.474763</td>\n",
       "      <td>13</td>\n",
       "      <td>32.81851</td>\n",
       "      <td>1</td>\n",
       "      <td>9</td>\n",
       "      <td>29</td>\n",
       "      <td>23</td>\n",
       "      <td>50</td>\n",
       "      <td>23</td>\n",
       "    </tr>\n",
       "    <tr>\n",
       "      <th>2</th>\n",
       "      <td>3.89182</td>\n",
       "      <td>30.46</td>\n",
       "      <td>1069.253545</td>\n",
       "      <td>0.440894</td>\n",
       "      <td>1.474763</td>\n",
       "      <td>13</td>\n",
       "      <td>32.81851</td>\n",
       "      <td>1</td>\n",
       "      <td>9</td>\n",
       "      <td>29</td>\n",
       "      <td>23</td>\n",
       "      <td>45</td>\n",
       "      <td>26</td>\n",
       "    </tr>\n",
       "    <tr>\n",
       "      <th>3</th>\n",
       "      <td>3.89182</td>\n",
       "      <td>30.46</td>\n",
       "      <td>1175.187489</td>\n",
       "      <td>0.382426</td>\n",
       "      <td>1.474763</td>\n",
       "      <td>13</td>\n",
       "      <td>32.81851</td>\n",
       "      <td>1</td>\n",
       "      <td>9</td>\n",
       "      <td>29</td>\n",
       "      <td>23</td>\n",
       "      <td>40</td>\n",
       "      <td>21</td>\n",
       "    </tr>\n",
       "    <tr>\n",
       "      <th>4</th>\n",
       "      <td>3.89182</td>\n",
       "      <td>30.46</td>\n",
       "      <td>1248.392213</td>\n",
       "      <td>0.291391</td>\n",
       "      <td>1.890095</td>\n",
       "      <td>13</td>\n",
       "      <td>32.81851</td>\n",
       "      <td>1</td>\n",
       "      <td>9</td>\n",
       "      <td>29</td>\n",
       "      <td>23</td>\n",
       "      <td>35</td>\n",
       "      <td>24</td>\n",
       "    </tr>\n",
       "  </tbody>\n",
       "</table>\n",
       "</div>"
      ],
      "text/plain": [
       "   Temperature  Pressure     Humidity  WindDirection(Degrees)     Speed  \\\n",
       "0      3.89182     30.46  1139.358665                0.492692  1.890095   \n",
       "1      3.89182     30.46  1104.046980                0.490996  1.474763   \n",
       "2      3.89182     30.46  1069.253545                0.440894  1.474763   \n",
       "3      3.89182     30.46  1175.187489                0.382426  1.474763   \n",
       "4      3.89182     30.46  1248.392213                0.291391  1.890095   \n",
       "\n",
       "   TSR_Minute  TSS_Minute  TSS_Hour  Month  Day  Hour  Minute  Second  \n",
       "0          13    32.81851         1      9   29    23      55      26  \n",
       "1          13    32.81851         1      9   29    23      50      23  \n",
       "2          13    32.81851         1      9   29    23      45      26  \n",
       "3          13    32.81851         1      9   29    23      40      21  \n",
       "4          13    32.81851         1      9   29    23      35      24  "
      ]
     },
     "execution_count": 12,
     "metadata": {},
     "output_type": "execute_result"
    }
   ],
   "source": [
    "X.head()"
   ]
  },
  {
   "cell_type": "markdown",
   "metadata": {
    "papermill": {
     "duration": 0.039717,
     "end_time": "2020-10-19T19:13:42.939427",
     "exception": false,
     "start_time": "2020-10-19T19:13:42.899710",
     "status": "completed"
    },
    "tags": []
   },
   "source": [
    "# Binning"
   ]
  },
  {
   "cell_type": "markdown",
   "metadata": {
    "papermill": {
     "duration": 0.038763,
     "end_time": "2020-10-19T19:13:43.017429",
     "exception": false,
     "start_time": "2020-10-19T19:13:42.978666",
     "status": "completed"
    },
    "tags": []
   },
   "source": [
    "The last piece of feature engineering with the X and y variables is to bin the WindDirection, TimeSunSet Minute and Humidity features."
   ]
  },
  {
   "cell_type": "code",
   "execution_count": 13,
   "metadata": {
    "execution": {
     "iopub.execute_input": "2020-10-19T19:13:43.104624Z",
     "iopub.status.busy": "2020-10-19T19:13:43.103497Z",
     "iopub.status.idle": "2020-10-19T19:13:43.112406Z",
     "shell.execute_reply": "2020-10-19T19:13:43.111765Z"
    },
    "papermill": {
     "duration": 0.05614,
     "end_time": "2020-10-19T19:13:43.112536",
     "exception": false,
     "start_time": "2020-10-19T19:13:43.056396",
     "status": "completed"
    },
    "tags": []
   },
   "outputs": [],
   "source": [
    "X['WindDirection(Degrees)_bin'] = np.digitize(X['WindDirection(Degrees)'], np.arange(0.0, 1.0, 0.02).tolist())\n",
    "X['TSS_Minute_bin'] = np.digitize(X['TSS_Minute'], np.arange(0.0, 288.0, 12).tolist())\n",
    "X['Humidity_bin'] = np.digitize(X['Humidity'], np.arange(32, 3192, 128).tolist())"
   ]
  },
  {
   "cell_type": "markdown",
   "metadata": {
    "papermill": {
     "duration": 0.03976,
     "end_time": "2020-10-19T19:13:43.192622",
     "exception": false,
     "start_time": "2020-10-19T19:13:43.152862",
     "status": "completed"
    },
    "tags": []
   },
   "source": [
    "# The following graphs are visualisations showing the distribution of the data we recorded."
   ]
  },
  {
   "cell_type": "code",
   "execution_count": 14,
   "metadata": {
    "execution": {
     "iopub.execute_input": "2020-10-19T19:13:43.298843Z",
     "iopub.status.busy": "2020-10-19T19:13:43.296555Z",
     "iopub.status.idle": "2020-10-19T19:13:44.007236Z",
     "shell.execute_reply": "2020-10-19T19:13:44.006412Z"
    },
    "papermill": {
     "duration": 0.77487,
     "end_time": "2020-10-19T19:13:44.007367",
     "exception": false,
     "start_time": "2020-10-19T19:13:43.232497",
     "status": "completed"
    },
    "tags": []
   },
   "outputs": [
    {
     "data": {
      "image/png": "[encoded data removed]",
      "text/plain": [
       "<Figure size 432x288 with 1 Axes>"
      ]
     },
     "metadata": {
      "needs_background": "light"
     },
     "output_type": "display_data"
    },
    {
     "data": {
      "image/png": "[encoded data removed]",
      "text/plain": [
       "<Figure size 432x288 with 1 Axes>"
      ]
     },
     "metadata": {
      "needs_background": "light"
     },
     "output_type": "display_data"
    },
    {
     "data": {
      "image/png": "[encoded data removed]",
      "text/plain": [
       "<Figure size 432x288 with 1 Axes>"
      ]
     },
     "metadata": {
      "needs_background": "light"
     },
     "output_type": "display_data"
    }
   ],
   "source": [
    "feats = {'WindDirection(Degrees)_bin':'blue', 'TSS_Minute_bin':'red', 'Humidity_bin':'green'}\n",
    "for i in feats:\n",
    "    count = Counter(X[i])\n",
    "    plt.bar(count.keys(), count.values(), color=feats[i])\n",
    "    plt.title('Distribution')\n",
    "    plt.ylabel('Occurrence')\n",
    "    plt.xlabel(i)\n",
    "    plt.show()"
   ]
  },
  {
   "cell_type": "code",
   "execution_count": 15,
   "metadata": {
    "execution": {
     "iopub.execute_input": "2020-10-19T19:13:44.113537Z",
     "iopub.status.busy": "2020-10-19T19:13:44.112392Z",
     "iopub.status.idle": "2020-10-19T19:13:44.117188Z",
     "shell.execute_reply": "2020-10-19T19:13:44.116440Z"
    },
    "papermill": {
     "duration": 0.066815,
     "end_time": "2020-10-19T19:13:44.117315",
     "exception": false,
     "start_time": "2020-10-19T19:13:44.050500",
     "status": "completed"
    },
    "tags": []
   },
   "outputs": [
    {
     "data": {
      "text/html": [
       "<div>\n",
       "<style scoped>\n",
       "    .dataframe tbody tr th:only-of-type {\n",
       "        vertical-align: middle;\n",
       "    }\n",
       "\n",
       "    .dataframe tbody tr th {\n",
       "        vertical-align: top;\n",
       "    }\n",
       "\n",
       "    .dataframe thead th {\n",
       "        text-align: right;\n",
       "    }\n",
       "</style>\n",
       "<table border=\"1\" class=\"dataframe\">\n",
       "  <thead>\n",
       "    <tr style=\"text-align: right;\">\n",
       "      <th></th>\n",
       "      <th>Temperature</th>\n",
       "      <th>Pressure</th>\n",
       "      <th>Humidity</th>\n",
       "      <th>WindDirection(Degrees)</th>\n",
       "      <th>Speed</th>\n",
       "      <th>TSR_Minute</th>\n",
       "      <th>TSS_Minute</th>\n",
       "      <th>TSS_Hour</th>\n",
       "      <th>Month</th>\n",
       "      <th>Day</th>\n",
       "      <th>Hour</th>\n",
       "      <th>Minute</th>\n",
       "      <th>Second</th>\n",
       "      <th>WindDirection(Degrees)_bin</th>\n",
       "      <th>TSS_Minute_bin</th>\n",
       "      <th>Humidity_bin</th>\n",
       "    </tr>\n",
       "  </thead>\n",
       "  <tbody>\n",
       "    <tr>\n",
       "      <th>0</th>\n",
       "      <td>3.89182</td>\n",
       "      <td>30.46</td>\n",
       "      <td>1139.358665</td>\n",
       "      <td>0.492692</td>\n",
       "      <td>1.890095</td>\n",
       "      <td>13</td>\n",
       "      <td>32.81851</td>\n",
       "      <td>1</td>\n",
       "      <td>9</td>\n",
       "      <td>29</td>\n",
       "      <td>23</td>\n",
       "      <td>55</td>\n",
       "      <td>26</td>\n",
       "      <td>25</td>\n",
       "      <td>3</td>\n",
       "      <td>9</td>\n",
       "    </tr>\n",
       "    <tr>\n",
       "      <th>1</th>\n",
       "      <td>3.89182</td>\n",
       "      <td>30.46</td>\n",
       "      <td>1104.046980</td>\n",
       "      <td>0.490996</td>\n",
       "      <td>1.474763</td>\n",
       "      <td>13</td>\n",
       "      <td>32.81851</td>\n",
       "      <td>1</td>\n",
       "      <td>9</td>\n",
       "      <td>29</td>\n",
       "      <td>23</td>\n",
       "      <td>50</td>\n",
       "      <td>23</td>\n",
       "      <td>25</td>\n",
       "      <td>3</td>\n",
       "      <td>9</td>\n",
       "    </tr>\n",
       "    <tr>\n",
       "      <th>2</th>\n",
       "      <td>3.89182</td>\n",
       "      <td>30.46</td>\n",
       "      <td>1069.253545</td>\n",
       "      <td>0.440894</td>\n",
       "      <td>1.474763</td>\n",
       "      <td>13</td>\n",
       "      <td>32.81851</td>\n",
       "      <td>1</td>\n",
       "      <td>9</td>\n",
       "      <td>29</td>\n",
       "      <td>23</td>\n",
       "      <td>45</td>\n",
       "      <td>26</td>\n",
       "      <td>23</td>\n",
       "      <td>3</td>\n",
       "      <td>9</td>\n",
       "    </tr>\n",
       "    <tr>\n",
       "      <th>3</th>\n",
       "      <td>3.89182</td>\n",
       "      <td>30.46</td>\n",
       "      <td>1175.187489</td>\n",
       "      <td>0.382426</td>\n",
       "      <td>1.474763</td>\n",
       "      <td>13</td>\n",
       "      <td>32.81851</td>\n",
       "      <td>1</td>\n",
       "      <td>9</td>\n",
       "      <td>29</td>\n",
       "      <td>23</td>\n",
       "      <td>40</td>\n",
       "      <td>21</td>\n",
       "      <td>20</td>\n",
       "      <td>3</td>\n",
       "      <td>9</td>\n",
       "    </tr>\n",
       "    <tr>\n",
       "      <th>4</th>\n",
       "      <td>3.89182</td>\n",
       "      <td>30.46</td>\n",
       "      <td>1248.392213</td>\n",
       "      <td>0.291391</td>\n",
       "      <td>1.890095</td>\n",
       "      <td>13</td>\n",
       "      <td>32.81851</td>\n",
       "      <td>1</td>\n",
       "      <td>9</td>\n",
       "      <td>29</td>\n",
       "      <td>23</td>\n",
       "      <td>35</td>\n",
       "      <td>24</td>\n",
       "      <td>15</td>\n",
       "      <td>3</td>\n",
       "      <td>10</td>\n",
       "    </tr>\n",
       "  </tbody>\n",
       "</table>\n",
       "</div>"
      ],
      "text/plain": [
       "   Temperature  Pressure     Humidity  WindDirection(Degrees)     Speed  \\\n",
       "0      3.89182     30.46  1139.358665                0.492692  1.890095   \n",
       "1      3.89182     30.46  1104.046980                0.490996  1.474763   \n",
       "2      3.89182     30.46  1069.253545                0.440894  1.474763   \n",
       "3      3.89182     30.46  1175.187489                0.382426  1.474763   \n",
       "4      3.89182     30.46  1248.392213                0.291391  1.890095   \n",
       "\n",
       "   TSR_Minute  TSS_Minute  TSS_Hour  Month  Day  Hour  Minute  Second  \\\n",
       "0          13    32.81851         1      9   29    23      55      26   \n",
       "1          13    32.81851         1      9   29    23      50      23   \n",
       "2          13    32.81851         1      9   29    23      45      26   \n",
       "3          13    32.81851         1      9   29    23      40      21   \n",
       "4          13    32.81851         1      9   29    23      35      24   \n",
       "\n",
       "   WindDirection(Degrees)_bin  TSS_Minute_bin  Humidity_bin  \n",
       "0                          25               3             9  \n",
       "1                          25               3             9  \n",
       "2                          23               3             9  \n",
       "3                          20               3             9  \n",
       "4                          15               3            10  "
      ]
     },
     "execution_count": 15,
     "metadata": {},
     "output_type": "execute_result"
    }
   ],
   "source": [
    "X.head()"
   ]
  },
  {
   "cell_type": "markdown",
   "metadata": {
    "papermill": {
     "duration": 0.043299,
     "end_time": "2020-10-19T19:13:44.204536",
     "exception": false,
     "start_time": "2020-10-19T19:13:44.161237",
     "status": "completed"
    },
    "tags": []
   },
   "source": [
    "# This is the correlation of all the variables in our dataset"
   ]
  },
  {
   "cell_type": "code",
   "execution_count": 16,
   "metadata": {
    "execution": {
     "iopub.execute_input": "2020-10-19T19:13:44.298272Z",
     "iopub.status.busy": "2020-10-19T19:13:44.297465Z",
     "iopub.status.idle": "2020-10-19T19:13:44.733265Z",
     "shell.execute_reply": "2020-10-19T19:13:44.732620Z"
    },
    "papermill": {
     "duration": 0.485305,
     "end_time": "2020-10-19T19:13:44.733399",
     "exception": false,
     "start_time": "2020-10-19T19:13:44.248094",
     "status": "completed"
    },
    "tags": []
   },
   "outputs": [
    {
     "data": {
      "image/png": "[encoded data removed]",
      "text/plain": [
       "<Figure size 432x288 with 2 Axes>"
      ]
     },
     "metadata": {
      "needs_background": "light"
     },
     "output_type": "display_data"
    }
   ],
   "source": [
    "sns.heatmap(X.corr())\n",
    "plt.show()"
   ]
  },
  {
   "cell_type": "code",
   "execution_count": 17,
   "metadata": {
    "execution": {
     "iopub.execute_input": "2020-10-19T19:13:44.831141Z",
     "iopub.status.busy": "2020-10-19T19:13:44.830294Z",
     "iopub.status.idle": "2020-10-19T19:13:44.909951Z",
     "shell.execute_reply": "2020-10-19T19:13:44.909282Z"
    },
    "papermill": {
     "duration": 0.130681,
     "end_time": "2020-10-19T19:13:44.910081",
     "exception": false,
     "start_time": "2020-10-19T19:13:44.779400",
     "status": "completed"
    },
    "tags": []
   },
   "outputs": [
    {
     "data": {
      "text/html": [
       "<div>\n",
       "<style scoped>\n",
       "    .dataframe tbody tr th:only-of-type {\n",
       "        vertical-align: middle;\n",
       "    }\n",
       "\n",
       "    .dataframe tbody tr th {\n",
       "        vertical-align: top;\n",
       "    }\n",
       "\n",
       "    .dataframe thead th {\n",
       "        text-align: right;\n",
       "    }\n",
       "</style>\n",
       "<table border=\"1\" class=\"dataframe\">\n",
       "  <thead>\n",
       "    <tr style=\"text-align: right;\">\n",
       "      <th></th>\n",
       "      <th>Temperature</th>\n",
       "      <th>Pressure</th>\n",
       "      <th>Humidity</th>\n",
       "      <th>WindDirection(Degrees)</th>\n",
       "      <th>Speed</th>\n",
       "      <th>TSR_Minute</th>\n",
       "      <th>TSS_Minute</th>\n",
       "      <th>TSS_Hour</th>\n",
       "      <th>Month</th>\n",
       "      <th>Day</th>\n",
       "      <th>Hour</th>\n",
       "      <th>Minute</th>\n",
       "      <th>Second</th>\n",
       "      <th>WindDirection(Degrees)_bin</th>\n",
       "      <th>TSS_Minute_bin</th>\n",
       "      <th>Humidity_bin</th>\n",
       "    </tr>\n",
       "  </thead>\n",
       "  <tbody>\n",
       "    <tr>\n",
       "      <th>count</th>\n",
       "      <td>32686.000000</td>\n",
       "      <td>32686.000000</td>\n",
       "      <td>32686.000000</td>\n",
       "      <td>32686.000000</td>\n",
       "      <td>32686.000000</td>\n",
       "      <td>32686.000000</td>\n",
       "      <td>32686.000000</td>\n",
       "      <td>32686.000000</td>\n",
       "      <td>32686.000000</td>\n",
       "      <td>32686.000000</td>\n",
       "      <td>32686.000000</td>\n",
       "      <td>32686.000000</td>\n",
       "      <td>32686.000000</td>\n",
       "      <td>32686.000000</td>\n",
       "      <td>32686.000000</td>\n",
       "      <td>32686.000000</td>\n",
       "    </tr>\n",
       "    <tr>\n",
       "      <th>mean</th>\n",
       "      <td>3.946313</td>\n",
       "      <td>30.422879</td>\n",
       "      <td>1946.794322</td>\n",
       "      <td>0.398488</td>\n",
       "      <td>1.859223</td>\n",
       "      <td>27.640519</td>\n",
       "      <td>157.988841</td>\n",
       "      <td>0.347886</td>\n",
       "      <td>10.526066</td>\n",
       "      <td>15.825766</td>\n",
       "      <td>11.557425</td>\n",
       "      <td>27.556691</td>\n",
       "      <td>17.441902</td>\n",
       "      <td>20.421098</td>\n",
       "      <td>13.691489</td>\n",
       "      <td>15.450805</td>\n",
       "    </tr>\n",
       "    <tr>\n",
       "      <th>std</th>\n",
       "      <td>0.117019</td>\n",
       "      <td>0.054673</td>\n",
       "      <td>1007.881696</td>\n",
       "      <td>0.231111</td>\n",
       "      <td>0.520981</td>\n",
       "      <td>15.518714</td>\n",
       "      <td>80.819626</td>\n",
       "      <td>0.476307</td>\n",
       "      <td>1.096691</td>\n",
       "      <td>8.711824</td>\n",
       "      <td>6.912034</td>\n",
       "      <td>17.268507</td>\n",
       "      <td>12.951109</td>\n",
       "      <td>11.532145</td>\n",
       "      <td>6.720589</td>\n",
       "      <td>7.879532</td>\n",
       "    </tr>\n",
       "    <tr>\n",
       "      <th>min</th>\n",
       "      <td>3.555348</td>\n",
       "      <td>30.190000</td>\n",
       "      <td>32.143940</td>\n",
       "      <td>0.000000</td>\n",
       "      <td>0.000000</td>\n",
       "      <td>7.000000</td>\n",
       "      <td>0.000000</td>\n",
       "      <td>0.000000</td>\n",
       "      <td>9.000000</td>\n",
       "      <td>1.000000</td>\n",
       "      <td>0.000000</td>\n",
       "      <td>0.000000</td>\n",
       "      <td>0.000000</td>\n",
       "      <td>1.000000</td>\n",
       "      <td>1.000000</td>\n",
       "      <td>1.000000</td>\n",
       "    </tr>\n",
       "    <tr>\n",
       "      <th>25%</th>\n",
       "      <td>3.850148</td>\n",
       "      <td>30.400000</td>\n",
       "      <td>1034.979494</td>\n",
       "      <td>0.228248</td>\n",
       "      <td>1.474763</td>\n",
       "      <td>14.000000</td>\n",
       "      <td>87.790602</td>\n",
       "      <td>0.000000</td>\n",
       "      <td>10.000000</td>\n",
       "      <td>9.000000</td>\n",
       "      <td>6.000000</td>\n",
       "      <td>15.000000</td>\n",
       "      <td>5.000000</td>\n",
       "      <td>12.000000</td>\n",
       "      <td>8.000000</td>\n",
       "      <td>8.000000</td>\n",
       "    </tr>\n",
       "    <tr>\n",
       "      <th>50%</th>\n",
       "      <td>3.931826</td>\n",
       "      <td>30.430000</td>\n",
       "      <td>2236.092852</td>\n",
       "      <td>0.410187</td>\n",
       "      <td>1.890095</td>\n",
       "      <td>24.000000</td>\n",
       "      <td>181.468050</td>\n",
       "      <td>0.000000</td>\n",
       "      <td>11.000000</td>\n",
       "      <td>16.000000</td>\n",
       "      <td>12.000000</td>\n",
       "      <td>30.000000</td>\n",
       "      <td>18.000000</td>\n",
       "      <td>21.000000</td>\n",
       "      <td>16.000000</td>\n",
       "      <td>18.000000</td>\n",
       "    </tr>\n",
       "    <tr>\n",
       "      <th>75%</th>\n",
       "      <td>4.025352</td>\n",
       "      <td>30.460000</td>\n",
       "      <td>2855.773244</td>\n",
       "      <td>0.498027</td>\n",
       "      <td>2.182675</td>\n",
       "      <td>40.000000</td>\n",
       "      <td>212.893273</td>\n",
       "      <td>1.000000</td>\n",
       "      <td>11.000000</td>\n",
       "      <td>23.000000</td>\n",
       "      <td>18.000000</td>\n",
       "      <td>45.000000</td>\n",
       "      <td>22.000000</td>\n",
       "      <td>25.000000</td>\n",
       "      <td>18.000000</td>\n",
       "      <td>23.000000</td>\n",
       "    </tr>\n",
       "    <tr>\n",
       "      <th>max</th>\n",
       "      <td>4.276666</td>\n",
       "      <td>30.560000</td>\n",
       "      <td>3191.915065</td>\n",
       "      <td>1.000000</td>\n",
       "      <td>3.725693</td>\n",
       "      <td>57.000000</td>\n",
       "      <td>287.465729</td>\n",
       "      <td>1.000000</td>\n",
       "      <td>12.000000</td>\n",
       "      <td>31.000000</td>\n",
       "      <td>23.000000</td>\n",
       "      <td>57.000000</td>\n",
       "      <td>59.000000</td>\n",
       "      <td>50.000000</td>\n",
       "      <td>24.000000</td>\n",
       "      <td>25.000000</td>\n",
       "    </tr>\n",
       "  </tbody>\n",
       "</table>\n",
       "</div>"
      ],
      "text/plain": [
       "        Temperature      Pressure      Humidity  WindDirection(Degrees)  \\\n",
       "count  32686.000000  32686.000000  32686.000000            32686.000000   \n",
       "mean       3.946313     30.422879   1946.794322                0.398488   \n",
       "std        0.117019      0.054673   1007.881696                0.231111   \n",
       "min        3.555348     30.190000     32.143940                0.000000   \n",
       "25%        3.850148     30.400000   1034.979494                0.228248   \n",
       "50%        3.931826     30.430000   2236.092852                0.410187   \n",
       "75%        4.025352     30.460000   2855.773244                0.498027   \n",
       "max        4.276666     30.560000   3191.915065                1.000000   \n",
       "\n",
       "              Speed    TSR_Minute    TSS_Minute      TSS_Hour         Month  \\\n",
       "count  32686.000000  32686.000000  32686.000000  32686.000000  32686.000000   \n",
       "mean       1.859223     27.640519    157.988841      0.347886     10.526066   \n",
       "std        0.520981     15.518714     80.819626      0.476307      1.096691   \n",
       "min        0.000000      7.000000      0.000000      0.000000      9.000000   \n",
       "25%        1.474763     14.000000     87.790602      0.000000     10.000000   \n",
       "50%        1.890095     24.000000    181.468050      0.000000     11.000000   \n",
       "75%        2.182675     40.000000    212.893273      1.000000     11.000000   \n",
       "max        3.725693     57.000000    287.465729      1.000000     12.000000   \n",
       "\n",
       "                Day          Hour        Minute        Second  \\\n",
       "count  32686.000000  32686.000000  32686.000000  32686.000000   \n",
       "mean      15.825766     11.557425     27.556691     17.441902   \n",
       "std        8.711824      6.912034     17.268507     12.951109   \n",
       "min        1.000000      0.000000      0.000000      0.000000   \n",
       "25%        9.000000      6.000000     15.000000      5.000000   \n",
       "50%       16.000000     12.000000     30.000000     18.000000   \n",
       "75%       23.000000     18.000000     45.000000     22.000000   \n",
       "max       31.000000     23.000000     57.000000     59.000000   \n",
       "\n",
       "       WindDirection(Degrees)_bin  TSS_Minute_bin  Humidity_bin  \n",
       "count                32686.000000    32686.000000  32686.000000  \n",
       "mean                    20.421098       13.691489     15.450805  \n",
       "std                     11.532145        6.720589      7.879532  \n",
       "min                      1.000000        1.000000      1.000000  \n",
       "25%                     12.000000        8.000000      8.000000  \n",
       "50%                     21.000000       16.000000     18.000000  \n",
       "75%                     25.000000       18.000000     23.000000  \n",
       "max                     50.000000       24.000000     25.000000  "
      ]
     },
     "execution_count": 17,
     "metadata": {},
     "output_type": "execute_result"
    }
   ],
   "source": [
    "X.describe()"
   ]
  },
  {
   "cell_type": "code",
   "execution_count": 18,
   "metadata": {
    "execution": {
     "iopub.execute_input": "2020-10-19T19:13:45.008696Z",
     "iopub.status.busy": "2020-10-19T19:13:45.007654Z",
     "iopub.status.idle": "2020-10-19T19:13:45.023256Z",
     "shell.execute_reply": "2020-10-19T19:13:45.022532Z"
    },
    "papermill": {
     "duration": 0.067349,
     "end_time": "2020-10-19T19:13:45.023380",
     "exception": false,
     "start_time": "2020-10-19T19:13:44.956031",
     "status": "completed"
    },
    "tags": []
   },
   "outputs": [
    {
     "name": "stdout",
     "output_type": "stream",
     "text": [
      "<class 'pandas.core.frame.DataFrame'>\n",
      "RangeIndex: 32686 entries, 0 to 32685\n",
      "Data columns (total 16 columns):\n",
      " #   Column                      Non-Null Count  Dtype  \n",
      "---  ------                      --------------  -----  \n",
      " 0   Temperature                 32686 non-null  float64\n",
      " 1   Pressure                    32686 non-null  float64\n",
      " 2   Humidity                    32686 non-null  float64\n",
      " 3   WindDirection(Degrees)      32686 non-null  float64\n",
      " 4   Speed                       32686 non-null  float64\n",
      " 5   TSR_Minute                  32686 non-null  int64  \n",
      " 6   TSS_Minute                  32686 non-null  float64\n",
      " 7   TSS_Hour                    32686 non-null  int64  \n",
      " 8   Month                       32686 non-null  int64  \n",
      " 9   Day                         32686 non-null  int64  \n",
      " 10  Hour                        32686 non-null  int64  \n",
      " 11  Minute                      32686 non-null  int64  \n",
      " 12  Second                      32686 non-null  int64  \n",
      " 13  WindDirection(Degrees)_bin  32686 non-null  int64  \n",
      " 14  TSS_Minute_bin              32686 non-null  int64  \n",
      " 15  Humidity_bin                32686 non-null  int64  \n",
      "dtypes: float64(6), int64(10)\n",
      "memory usage: 4.0 MB\n"
     ]
    }
   ],
   "source": [
    "X.info()"
   ]
  },
  {
   "cell_type": "markdown",
   "metadata": {
    "papermill": {
     "duration": 0.045619,
     "end_time": "2020-10-19T19:13:45.115003",
     "exception": false,
     "start_time": "2020-10-19T19:13:45.069384",
     "status": "completed"
    },
    "tags": []
   },
   "source": [
    "# Data Spilt for model performance Analysis"
   ]
  },
  {
   "cell_type": "code",
   "execution_count": 19,
   "metadata": {
    "execution": {
     "iopub.execute_input": "2020-10-19T19:13:45.215601Z",
     "iopub.status.busy": "2020-10-19T19:13:45.214804Z",
     "iopub.status.idle": "2020-10-19T19:13:45.226136Z",
     "shell.execute_reply": "2020-10-19T19:13:45.225394Z"
    },
    "papermill": {
     "duration": 0.065156,
     "end_time": "2020-10-19T19:13:45.226261",
     "exception": false,
     "start_time": "2020-10-19T19:13:45.161105",
     "status": "completed"
    },
    "tags": []
   },
   "outputs": [],
   "source": [
    "X_train, X_test, y_train, y_test = train_test_split(X, y, test_size=0.3, random_state=42)"
   ]
  },
  {
   "cell_type": "code",
   "execution_count": 20,
   "metadata": {
    "execution": {
     "iopub.execute_input": "2020-10-19T19:13:45.327124Z",
     "iopub.status.busy": "2020-10-19T19:13:45.324778Z",
     "iopub.status.idle": "2020-10-19T19:13:45.350165Z",
     "shell.execute_reply": "2020-10-19T19:13:45.349317Z"
    },
    "papermill": {
     "duration": 0.07715,
     "end_time": "2020-10-19T19:13:45.350298",
     "exception": false,
     "start_time": "2020-10-19T19:13:45.273148",
     "status": "completed"
    },
    "tags": []
   },
   "outputs": [],
   "source": [
    "scaler = StandardScaler()\n",
    "X_train = scaler.fit_transform(X_train)\n",
    "X_test = scaler.transform(X_test)"
   ]
  },
  {
   "cell_type": "markdown",
   "metadata": {
    "papermill": {
     "duration": 0.046072,
     "end_time": "2020-10-19T19:13:45.443124",
     "exception": false,
     "start_time": "2020-10-19T19:13:45.397052",
     "status": "completed"
    },
    "tags": []
   },
   "source": [
    "# Model training\n",
    "1. Finally, we have created a neural network which predicts the level of solar radiation."
   ]
  },
  {
   "cell_type": "markdown",
   "metadata": {
    "papermill": {
     "duration": 0.047202,
     "end_time": "2020-10-19T19:13:45.538601",
     "exception": false,
     "start_time": "2020-10-19T19:13:45.491399",
     "status": "completed"
    },
    "tags": []
   },
   "source": [
    "# Artificial Neural Networks(ANNs) or Deep Learning Neural Network(DNNs)"
   ]
  },
  {
   "cell_type": "code",
   "execution_count": 21,
   "metadata": {
    "execution": {
     "iopub.execute_input": "2020-10-19T19:13:45.640839Z",
     "iopub.status.busy": "2020-10-19T19:13:45.639842Z",
     "iopub.status.idle": "2020-10-19T19:13:45.840903Z",
     "shell.execute_reply": "2020-10-19T19:13:45.840175Z"
    },
    "papermill": {
     "duration": 0.25612,
     "end_time": "2020-10-19T19:13:45.841041",
     "exception": false,
     "start_time": "2020-10-19T19:13:45.584921",
     "status": "completed"
    },
    "tags": []
   },
   "outputs": [],
   "source": [
    "model = Sequential()\n",
    "    \n",
    "model.add(Dense(256, activation='relu', input_dim=16))\n",
    "model.add(Dropout(0.25))\n",
    "    \n",
    "model.add(Dense(128, activation='relu'))\n",
    "model.add(Dropout(0.25))\n",
    "\n",
    "model.add(Dense(64, activation='relu'))\n",
    "model.add(Dropout(0.4))\n",
    "\n",
    "model.add(Dense(1, activation='linear'))"
   ]
  },
  {
   "cell_type": "markdown",
   "metadata": {
    "papermill": {
     "duration": 0.047327,
     "end_time": "2020-10-19T19:13:45.935283",
     "exception": false,
     "start_time": "2020-10-19T19:13:45.887956",
     "status": "completed"
    },
    "tags": []
   },
   "source": [
    "# Model Compile"
   ]
  },
  {
   "cell_type": "code",
   "execution_count": 22,
   "metadata": {
    "execution": {
     "iopub.execute_input": "2020-10-19T19:13:46.042796Z",
     "iopub.status.busy": "2020-10-19T19:13:46.042026Z",
     "iopub.status.idle": "2020-10-19T19:13:46.049724Z",
     "shell.execute_reply": "2020-10-19T19:13:46.048957Z"
    },
    "papermill": {
     "duration": 0.067566,
     "end_time": "2020-10-19T19:13:46.049851",
     "exception": false,
     "start_time": "2020-10-19T19:13:45.982285",
     "status": "completed"
    },
    "tags": []
   },
   "outputs": [],
   "source": [
    "model.compile(metrics='mse',\n",
    "              loss='mae',\n",
    "              optimizer=Adam(learning_rate=0.003))\n"
   ]
  },
  {
   "cell_type": "markdown",
   "metadata": {
    "papermill": {
     "duration": 0.046689,
     "end_time": "2020-10-19T19:13:46.143500",
     "exception": false,
     "start_time": "2020-10-19T19:13:46.096811",
     "status": "completed"
    },
    "tags": []
   },
   "source": [
    "# Model fit"
   ]
  },
  {
   "cell_type": "code",
   "execution_count": 23,
   "metadata": {
    "execution": {
     "iopub.execute_input": "2020-10-19T19:13:46.244429Z",
     "iopub.status.busy": "2020-10-19T19:13:46.243598Z",
     "iopub.status.idle": "2020-10-19T19:14:55.489368Z",
     "shell.execute_reply": "2020-10-19T19:14:55.488540Z"
    },
    "papermill": {
     "duration": 69.298963,
     "end_time": "2020-10-19T19:14:55.489511",
     "exception": false,
     "start_time": "2020-10-19T19:13:46.190548",
     "status": "completed"
    },
    "tags": []
   },
   "outputs": [
    {
     "name": "stdout",
     "output_type": "stream",
     "text": [
      "Epoch 1/70\n",
      "358/358 [==============================] - 1s 3ms/step - loss: 97.3381 - mse: 37513.5039 - val_loss: 72.2955 - val_mse: 20412.7871\n",
      "Epoch 2/70\n",
      "358/358 [==============================] - 1s 3ms/step - loss: 71.2722 - mse: 19910.9414 - val_loss: 61.8548 - val_mse: 15253.5049\n",
      "Epoch 3/70\n",
      "358/358 [==============================] - 1s 3ms/step - loss: 66.2131 - mse: 17602.9043 - val_loss: 54.5361 - val_mse: 13245.5957\n",
      "Epoch 4/70\n",
      "358/358 [==============================] - 1s 3ms/step - loss: 63.2032 - mse: 16242.1934 - val_loss: 54.4674 - val_mse: 13676.3105\n",
      "Epoch 5/70\n",
      "358/358 [==============================] - 1s 3ms/step - loss: 61.6453 - mse: 15660.6904 - val_loss: 52.3761 - val_mse: 12888.2510\n",
      "Epoch 6/70\n",
      "358/358 [==============================] - 1s 3ms/step - loss: 60.9124 - mse: 15368.8027 - val_loss: 51.4750 - val_mse: 12463.7148\n",
      "Epoch 7/70\n",
      "358/358 [==============================] - 1s 3ms/step - loss: 59.9311 - mse: 15216.2373 - val_loss: 47.2637 - val_mse: 11396.5938\n",
      "Epoch 8/70\n",
      "358/358 [==============================] - 1s 3ms/step - loss: 58.1241 - mse: 14280.2402 - val_loss: 46.7064 - val_mse: 11024.2490\n",
      "Epoch 9/70\n",
      "358/358 [==============================] - 1s 3ms/step - loss: 57.8705 - mse: 14333.7646 - val_loss: 49.2821 - val_mse: 11576.8564\n",
      "Epoch 10/70\n",
      "358/358 [==============================] - 1s 3ms/step - loss: 57.5400 - mse: 14183.2939 - val_loss: 46.6714 - val_mse: 10894.7041\n",
      "Epoch 11/70\n",
      "358/358 [==============================] - 1s 3ms/step - loss: 56.6597 - mse: 13874.0684 - val_loss: 46.3508 - val_mse: 10870.6572\n",
      "Epoch 12/70\n",
      "358/358 [==============================] - 1s 3ms/step - loss: 56.9028 - mse: 13952.2363 - val_loss: 45.1713 - val_mse: 10523.6338\n",
      "Epoch 13/70\n",
      "358/358 [==============================] - 1s 3ms/step - loss: 56.7502 - mse: 13879.8389 - val_loss: 49.4063 - val_mse: 12030.9561\n",
      "Epoch 14/70\n",
      "358/358 [==============================] - 1s 3ms/step - loss: 56.0401 - mse: 13766.1592 - val_loss: 43.8727 - val_mse: 10400.7793\n",
      "Epoch 15/70\n",
      "358/358 [==============================] - 1s 3ms/step - loss: 55.4217 - mse: 13438.9746 - val_loss: 44.5714 - val_mse: 10470.6602\n",
      "Epoch 16/70\n",
      "358/358 [==============================] - 1s 3ms/step - loss: 55.3288 - mse: 13445.2559 - val_loss: 44.8958 - val_mse: 10590.1084\n",
      "Epoch 17/70\n",
      "358/358 [==============================] - 1s 3ms/step - loss: 55.5489 - mse: 13424.5059 - val_loss: 44.0574 - val_mse: 10302.7959\n",
      "Epoch 18/70\n",
      "358/358 [==============================] - 1s 3ms/step - loss: 54.7591 - mse: 13089.2402 - val_loss: 45.4355 - val_mse: 10916.5547\n",
      "Epoch 19/70\n",
      "358/358 [==============================] - 1s 3ms/step - loss: 54.7704 - mse: 13279.2471 - val_loss: 52.3149 - val_mse: 12154.2275\n",
      "Epoch 20/70\n",
      "358/358 [==============================] - 1s 3ms/step - loss: 54.3859 - mse: 13218.2266 - val_loss: 43.7649 - val_mse: 10098.2178\n",
      "Epoch 21/70\n",
      "358/358 [==============================] - 1s 3ms/step - loss: 54.5338 - mse: 13162.8086 - val_loss: 45.3918 - val_mse: 10856.8633\n",
      "Epoch 22/70\n",
      "358/358 [==============================] - 1s 3ms/step - loss: 54.5580 - mse: 13110.9277 - val_loss: 44.6297 - val_mse: 10503.3174\n",
      "Epoch 23/70\n",
      "358/358 [==============================] - 1s 3ms/step - loss: 54.0933 - mse: 12972.7275 - val_loss: 43.7947 - val_mse: 10192.6631\n",
      "Epoch 24/70\n",
      "358/358 [==============================] - 1s 3ms/step - loss: 53.8421 - mse: 12955.0547 - val_loss: 44.5240 - val_mse: 10868.5488\n",
      "Epoch 25/70\n",
      "358/358 [==============================] - 1s 3ms/step - loss: 53.8749 - mse: 12832.4053 - val_loss: 45.0430 - val_mse: 10718.8721\n",
      "Epoch 26/70\n",
      "358/358 [==============================] - 1s 3ms/step - loss: 53.2008 - mse: 12517.6836 - val_loss: 48.2035 - val_mse: 11463.8633\n",
      "Epoch 27/70\n",
      "358/358 [==============================] - 1s 3ms/step - loss: 53.8122 - mse: 12910.3711 - val_loss: 46.5968 - val_mse: 10982.1123\n",
      "Epoch 28/70\n",
      "358/358 [==============================] - 1s 3ms/step - loss: 53.0403 - mse: 12612.4111 - val_loss: 41.6762 - val_mse: 9699.2959\n",
      "Epoch 29/70\n",
      "358/358 [==============================] - 1s 3ms/step - loss: 53.0967 - mse: 12669.8672 - val_loss: 42.0512 - val_mse: 9876.2930\n",
      "Epoch 30/70\n",
      "358/358 [==============================] - 1s 3ms/step - loss: 52.1238 - mse: 12239.1689 - val_loss: 42.0142 - val_mse: 9635.8525\n",
      "Epoch 31/70\n",
      "358/358 [==============================] - 1s 3ms/step - loss: 51.8982 - mse: 12029.6338 - val_loss: 42.4774 - val_mse: 9687.7969\n",
      "Epoch 32/70\n",
      "358/358 [==============================] - 1s 3ms/step - loss: 52.2502 - mse: 12215.5010 - val_loss: 45.1388 - val_mse: 10057.1152\n",
      "Epoch 33/70\n",
      "358/358 [==============================] - 1s 3ms/step - loss: 52.4921 - mse: 12480.0166 - val_loss: 41.8676 - val_mse: 9434.6016\n",
      "Epoch 34/70\n",
      "358/358 [==============================] - 1s 3ms/step - loss: 51.4626 - mse: 11994.5215 - val_loss: 41.5873 - val_mse: 9902.5479\n",
      "Epoch 35/70\n",
      "358/358 [==============================] - 1s 3ms/step - loss: 51.6489 - mse: 12102.1143 - val_loss: 42.6907 - val_mse: 9834.7188\n",
      "Epoch 36/70\n",
      "358/358 [==============================] - 1s 3ms/step - loss: 51.0748 - mse: 11878.3691 - val_loss: 44.4650 - val_mse: 10262.5244\n",
      "Epoch 37/70\n",
      "358/358 [==============================] - 1s 3ms/step - loss: 51.5764 - mse: 12071.9648 - val_loss: 40.5339 - val_mse: 9525.5352\n",
      "Epoch 38/70\n",
      "358/358 [==============================] - 1s 3ms/step - loss: 51.5464 - mse: 12122.1484 - val_loss: 41.9311 - val_mse: 9582.8164\n",
      "Epoch 39/70\n",
      "358/358 [==============================] - 1s 3ms/step - loss: 51.0803 - mse: 11966.5361 - val_loss: 41.1019 - val_mse: 9187.9893\n",
      "Epoch 40/70\n",
      "358/358 [==============================] - 1s 3ms/step - loss: 50.4483 - mse: 11590.0430 - val_loss: 43.6945 - val_mse: 9815.8701\n",
      "Epoch 41/70\n",
      "358/358 [==============================] - 1s 3ms/step - loss: 51.0622 - mse: 11994.4102 - val_loss: 40.7068 - val_mse: 9590.5703\n",
      "Epoch 42/70\n",
      "358/358 [==============================] - 1s 3ms/step - loss: 50.5491 - mse: 11514.0859 - val_loss: 40.1760 - val_mse: 9335.5566\n",
      "Epoch 43/70\n",
      "358/358 [==============================] - 1s 3ms/step - loss: 50.7579 - mse: 11759.7578 - val_loss: 41.0890 - val_mse: 9519.1895\n",
      "Epoch 44/70\n",
      "358/358 [==============================] - 1s 3ms/step - loss: 51.0211 - mse: 11891.0527 - val_loss: 41.6476 - val_mse: 9648.2451\n",
      "Epoch 45/70\n",
      "358/358 [==============================] - 1s 3ms/step - loss: 49.9459 - mse: 11574.9619 - val_loss: 42.4386 - val_mse: 9809.0137\n",
      "Epoch 46/70\n",
      "358/358 [==============================] - 1s 3ms/step - loss: 50.3207 - mse: 11628.8984 - val_loss: 41.2939 - val_mse: 9813.0107\n",
      "Epoch 47/70\n",
      "358/358 [==============================] - 1s 3ms/step - loss: 49.8476 - mse: 11483.2158 - val_loss: 40.3768 - val_mse: 9483.5908\n",
      "Epoch 48/70\n",
      "358/358 [==============================] - 1s 3ms/step - loss: 49.7248 - mse: 11467.5723 - val_loss: 45.7211 - val_mse: 10602.8828\n",
      "Epoch 49/70\n",
      "358/358 [==============================] - 1s 3ms/step - loss: 49.2633 - mse: 11150.2793 - val_loss: 40.6242 - val_mse: 9259.5117\n",
      "Epoch 50/70\n",
      "358/358 [==============================] - 1s 3ms/step - loss: 49.4061 - mse: 11368.9766 - val_loss: 43.2157 - val_mse: 9996.1250\n",
      "Epoch 51/70\n",
      "358/358 [==============================] - 1s 3ms/step - loss: 49.2161 - mse: 11200.4287 - val_loss: 41.1090 - val_mse: 9249.5742\n",
      "Epoch 52/70\n",
      "358/358 [==============================] - 1s 3ms/step - loss: 49.5394 - mse: 11469.2783 - val_loss: 38.9379 - val_mse: 9200.5869\n",
      "Epoch 53/70\n",
      "358/358 [==============================] - 1s 3ms/step - loss: 48.9428 - mse: 10997.0332 - val_loss: 41.1704 - val_mse: 9195.1182\n",
      "Epoch 54/70\n",
      "358/358 [==============================] - 1s 3ms/step - loss: 48.9519 - mse: 11337.0420 - val_loss: 40.0482 - val_mse: 9605.9805\n",
      "Epoch 55/70\n",
      "358/358 [==============================] - 1s 3ms/step - loss: 48.7041 - mse: 11156.6787 - val_loss: 39.6210 - val_mse: 9309.3809\n",
      "Epoch 56/70\n",
      "358/358 [==============================] - 1s 3ms/step - loss: 48.5267 - mse: 11075.4961 - val_loss: 43.1272 - val_mse: 9480.5420\n",
      "Epoch 57/70\n",
      "358/358 [==============================] - 1s 3ms/step - loss: 48.2764 - mse: 10903.9297 - val_loss: 38.4440 - val_mse: 9203.0449\n",
      "Epoch 58/70\n",
      "358/358 [==============================] - 1s 3ms/step - loss: 48.2996 - mse: 11077.7871 - val_loss: 38.5985 - val_mse: 8900.5107\n",
      "Epoch 59/70\n",
      "358/358 [==============================] - 1s 3ms/step - loss: 48.5054 - mse: 11037.5723 - val_loss: 40.6222 - val_mse: 9067.6553\n",
      "Epoch 60/70\n",
      "358/358 [==============================] - 1s 3ms/step - loss: 48.3060 - mse: 10867.1367 - val_loss: 39.2540 - val_mse: 9214.0273\n",
      "Epoch 61/70\n",
      "358/358 [==============================] - 1s 3ms/step - loss: 48.5835 - mse: 10949.6582 - val_loss: 41.9805 - val_mse: 9717.5752\n",
      "Epoch 62/70\n",
      "358/358 [==============================] - 1s 3ms/step - loss: 47.9977 - mse: 10869.1562 - val_loss: 38.6626 - val_mse: 8928.0674\n",
      "Epoch 63/70\n",
      "358/358 [==============================] - 1s 3ms/step - loss: 48.3918 - mse: 11078.8438 - val_loss: 38.9897 - val_mse: 8935.8740\n",
      "Epoch 64/70\n",
      "358/358 [==============================] - 1s 3ms/step - loss: 47.8569 - mse: 10656.6074 - val_loss: 39.1420 - val_mse: 9059.1484\n",
      "Epoch 65/70\n",
      "358/358 [==============================] - 1s 3ms/step - loss: 48.4446 - mse: 11076.8262 - val_loss: 39.1969 - val_mse: 8618.7041\n",
      "Epoch 66/70\n",
      "358/358 [==============================] - 1s 3ms/step - loss: 47.9359 - mse: 10925.7705 - val_loss: 41.0651 - val_mse: 9564.6807\n",
      "Epoch 67/70\n",
      "358/358 [==============================] - 1s 3ms/step - loss: 47.2939 - mse: 10509.0557 - val_loss: 40.7738 - val_mse: 9238.9834\n",
      "Epoch 68/70\n",
      "358/358 [==============================] - 1s 3ms/step - loss: 47.6214 - mse: 10659.1963 - val_loss: 43.4820 - val_mse: 9855.0000\n",
      "Epoch 69/70\n",
      "358/358 [==============================] - 1s 3ms/step - loss: 47.5002 - mse: 10723.9746 - val_loss: 39.3575 - val_mse: 8845.1475\n",
      "Epoch 70/70\n",
      "358/358 [==============================] - 1s 3ms/step - loss: 47.9724 - mse: 10668.3467 - val_loss: 39.1031 - val_mse: 9283.4336\n"
     ]
    }
   ],
   "source": [
    "history = model.fit(X_train,\n",
    "                    y_train,\n",
    "                    validation_data=(X_test, y_test),\n",
    "                    epochs=70,\n",
    "                    batch_size=64)"
   ]
  },
  {
   "cell_type": "markdown",
   "metadata": {
    "papermill": {
     "duration": 0.539273,
     "end_time": "2020-10-19T19:14:56.574642",
     "exception": false,
     "start_time": "2020-10-19T19:14:56.035369",
     "status": "completed"
    },
    "tags": []
   },
   "source": [
    " Below are the scores we have achieved for mean absolute error and mean squared error."
   ]
  },
  {
   "cell_type": "markdown",
   "metadata": {
    "papermill": {
     "duration": 0.539671,
     "end_time": "2020-10-19T19:14:57.659775",
     "exception": false,
     "start_time": "2020-10-19T19:14:57.120104",
     "status": "completed"
    },
    "tags": []
   },
   "source": [
    "# Results"
   ]
  },
  {
   "cell_type": "code",
   "execution_count": 24,
   "metadata": {
    "execution": {
     "iopub.execute_input": "2020-10-19T19:14:58.779107Z",
     "iopub.status.busy": "2020-10-19T19:14:58.778238Z",
     "iopub.status.idle": "2020-10-19T19:14:59.133005Z",
     "shell.execute_reply": "2020-10-19T19:14:59.132286Z"
    },
    "papermill": {
     "duration": 0.927634,
     "end_time": "2020-10-19T19:14:59.133139",
     "exception": false,
     "start_time": "2020-10-19T19:14:58.205505",
     "status": "completed"
    },
    "tags": []
   },
   "outputs": [
    {
     "name": "stdout",
     "output_type": "stream",
     "text": [
      "307/307 [==============================] - 0s 966us/step - loss: 39.1031 - mse: 9283.4365\n",
      "Mean absolute error: 39.103126525878906. Mean squared error: 9283.4365234375.\n"
     ]
    }
   ],
   "source": [
    "fit = history.history\n",
    "scores = model.evaluate(X_test, y_test)\n",
    "mae = scores[0]\n",
    "mse = scores[1]\n",
    "print('Mean absolute error: ' + str(mae) + '. Mean squared error: ' + str(mse) + '.')\n",
    "\n"
   ]
  },
  {
   "cell_type": "code",
   "execution_count": 25,
   "metadata": {
    "execution": {
     "iopub.execute_input": "2020-10-19T19:15:00.303329Z",
     "iopub.status.busy": "2020-10-19T19:15:00.297579Z",
     "iopub.status.idle": "2020-10-19T19:15:01.007520Z",
     "shell.execute_reply": "2020-10-19T19:15:01.006639Z"
    },
    "papermill": {
     "duration": 1.272834,
     "end_time": "2020-10-19T19:15:01.007681",
     "exception": false,
     "start_time": "2020-10-19T19:14:59.734847",
     "status": "completed"
    },
    "tags": []
   },
   "outputs": [
    {
     "data": {
      "image/png": "[encoded data removed]",
      "text/plain": [
       "<Figure size 432x288 with 1 Axes>"
      ]
     },
     "metadata": {
      "needs_background": "light"
     },
     "output_type": "display_data"
    },
    {
     "data": {
      "image/png": "[encoded data removed]",
      "text/plain": [
       "<Figure size 432x288 with 1 Axes>"
      ]
     },
     "metadata": {
      "needs_background": "light"
     },
     "output_type": "display_data"
    },
    {
     "data": {
      "image/png": "[encoded data removed]",
      "text/plain": [
       "<Figure size 432x288 with 1 Axes>"
      ]
     },
     "metadata": {
      "needs_background": "light"
     },
     "output_type": "display_data"
    },
    {
     "data": {
      "image/png": "[encoded data removed]",
      "text/plain": [
       "<Figure size 432x288 with 1 Axes>"
      ]
     },
     "metadata": {
      "needs_background": "light"
     },
     "output_type": "display_data"
    }
   ],
   "source": [
    "for i in fit:\n",
    "    plt.plot(fit[i])\n",
    "    plt.title(i + ' over epochs')\n",
    "    plt.ylabel(i)\n",
    "    plt.xlabel('epochs')\n",
    "    plt.show()"
   ]
  }
 ],
 "metadata": {
  "kernelspec": {
   "display_name": "Python 3",
   "language": "python",
   "name": "python3"
  },
  "language_info": {
   "codemirror_mode": {
    "name": "ipython",
    "version": 3
   },
   "file_extension": ".py",
   "mimetype": "text/x-python",
   "name": "python",
   "nbconvert_exporter": "python",
   "pygments_lexer": "ipython3",
   "version": "3.7.6"
  },
  "papermill": {
   "duration": 131.993831,
   "end_time": "2020-10-19T19:15:01.676953",
   "environment_variables": {},
   "exception": null,
   "input_path": "__notebook__.ipynb",
   "output_path": "__notebook__.ipynb",
   "parameters": {},
   "start_time": "2020-10-19T19:12:49.683122",
   "version": "2.1.0"
  }
 },
 "nbformat": 4,
 "nbformat_minor": 4
}
